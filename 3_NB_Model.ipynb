{
 "cells": [
  {
   "cell_type": "markdown",
   "metadata": {},
   "source": [
    "### Loading Required Libraries"
   ]
  },
  {
   "cell_type": "code",
   "execution_count": 3,
   "metadata": {},
   "outputs": [],
   "source": [
    "# import the necessary libraries\n",
    "\n",
    "from modules import PreProcessing, functions\n",
    "from sqlite3 import connect \n",
    "import pandas as pd\n",
    "import numpy as np\n",
    "import matplotlib.pyplot as plt\n",
    "from sklearn.feature_extraction.text import TfidfVectorizer\n",
    "from sklearn.metrics import accuracy_score\n",
    "from sklearn.metrics import confusion_matrix, classification_report\n",
    "from itertools import chain\n",
    "from collections import Counter\n",
    "import nltk\n",
    "import warnings\n",
    "warnings.filterwarnings(\"ignore\")\n",
    "\n",
    "# to ensure all changes are reflected \n",
    "# in-case jupyter notebook was already oppened\n",
    "\n",
    "from importlib import reload\n",
    "reload(PreProcessing)\n",
    "reload(functions)\n",
    "\n",
    "project_dir = '/Users/nima/repository/Project_509'\n",
    "#project_dir = '/Users/oscargil/Library/CloudStorage/GoogleDrive-gil.oscar@gmail.com/My Drive/Masters of Science in Applied Data Science (University of San Diego)/2022 - S6 - Fall Courses/Applied Text Mining - ADS 509/TeamProject'"
   ]
  },
  {
   "cell_type": "code",
   "execution_count": 2,
   "metadata": {},
   "outputs": [],
   "source": [
    "# import tensorflow as tf\n",
    "# from tensorflow.keras.preprocessing.text import Tokenizer\n",
    "# from tensorflow.keras.preprocessing.sequence import pad_sequences\n",
    "# from tensorflow.keras.models import Sequential\n",
    "# from tensorflow.keras.layers import Dense, Embedding, LSTM, SpatialDropout1D\n",
    "# from tensorflow.keras.utils import to_categorical\n",
    "# from tensorflow.keras.callbacks import TensorBoard"
   ]
  },
  {
   "cell_type": "markdown",
   "metadata": {},
   "source": [
    "### Section 1 - Create a Suport vector machine "
   ]
  },
  {
   "cell_type": "code",
   "execution_count": 4,
   "metadata": {},
   "outputs": [
    {
     "data": {
      "text/html": [
       "<div>\n",
       "<style scoped>\n",
       "    .dataframe tbody tr th:only-of-type {\n",
       "        vertical-align: middle;\n",
       "    }\n",
       "\n",
       "    .dataframe tbody tr th {\n",
       "        vertical-align: top;\n",
       "    }\n",
       "\n",
       "    .dataframe thead th {\n",
       "        text-align: right;\n",
       "    }\n",
       "</style>\n",
       "<table border=\"1\" class=\"dataframe\">\n",
       "  <thead>\n",
       "    <tr style=\"text-align: right;\">\n",
       "      <th></th>\n",
       "      <th>id</th>\n",
       "      <th>course_name</th>\n",
       "      <th>clean_sentence</th>\n",
       "      <th>tokens</th>\n",
       "    </tr>\n",
       "  </thead>\n",
       "  <tbody>\n",
       "    <tr>\n",
       "      <th>43667</th>\n",
       "      <td>43667</td>\n",
       "      <td>python</td>\n",
       "      <td>thi one best program class ive ever taken easi...</td>\n",
       "      <td>[thi, one, best, program, class, ive, ever, ta...</td>\n",
       "    </tr>\n",
       "    <tr>\n",
       "      <th>3038</th>\n",
       "      <td>3038</td>\n",
       "      <td>ai-for-everyone</td>\n",
       "      <td>thi best cours beginn aigiv confid know ai</td>\n",
       "      <td>[thi, best, cours, beginn, aigiv, confid, know...</td>\n",
       "    </tr>\n",
       "    <tr>\n",
       "      <th>41632</th>\n",
       "      <td>41632</td>\n",
       "      <td>python</td>\n",
       "      <td>class professor charl sever interest fun learn...</td>\n",
       "      <td>[class, professor, charl, sever, interest, fun...</td>\n",
       "    </tr>\n",
       "    <tr>\n",
       "      <th>439</th>\n",
       "      <td>439</td>\n",
       "      <td>ai-for-everyone</td>\n",
       "      <td>veri enlighten peopl zero small amount knowled...</td>\n",
       "      <td>[veri, enlighten, peopl, zero, small, amount, ...</td>\n",
       "    </tr>\n",
       "    <tr>\n",
       "      <th>20892</th>\n",
       "      <td>20892</td>\n",
       "      <td>foundations-data</td>\n",
       "      <td>like toni explain concept thi cours self refle...</td>\n",
       "      <td>[like, toni, explain, concept, thi, cours, sel...</td>\n",
       "    </tr>\n",
       "  </tbody>\n",
       "</table>\n",
       "</div>"
      ],
      "text/plain": [
       "          id       course_name  \\\n",
       "43667  43667            python   \n",
       "3038    3038   ai-for-everyone   \n",
       "41632  41632            python   \n",
       "439      439   ai-for-everyone   \n",
       "20892  20892  foundations-data   \n",
       "\n",
       "                                          clean_sentence  \\\n",
       "43667  thi one best program class ive ever taken easi...   \n",
       "3038          thi best cours beginn aigiv confid know ai   \n",
       "41632  class professor charl sever interest fun learn...   \n",
       "439    veri enlighten peopl zero small amount knowled...   \n",
       "20892  like toni explain concept thi cours self refle...   \n",
       "\n",
       "                                                  tokens  \n",
       "43667  [thi, one, best, program, class, ive, ever, ta...  \n",
       "3038   [thi, best, cours, beginn, aigiv, confid, know...  \n",
       "41632  [class, professor, charl, sever, interest, fun...  \n",
       "439    [veri, enlighten, peopl, zero, small, amount, ...  \n",
       "20892  [like, toni, explain, concept, thi, cours, sel...  "
      ]
     },
     "execution_count": 4,
     "metadata": {},
     "output_type": "execute_result"
    }
   ],
   "source": [
    "databse_file = 'database.db'\n",
    "main = connect(databse_file)\n",
    "\n",
    "sql_statement_laod_data = '''\n",
    "SELECT \n",
    "    reviews.id, \n",
    "    reviews.course_name, \n",
    "    review_text_clean.clean_sentence \n",
    "\n",
    "FROM review_text_clean\n",
    "JOIN reviews ON \n",
    "    review_text_clean.review_id = reviews.id\n",
    "'''\n",
    "\n",
    "df = pd.read_sql_query(sql_statement_laod_data, main)\n",
    "\n",
    "# create a new column that holds tokens of clean_sentence\n",
    "df['tokens'] = df['clean_sentence'].apply(lambda x: x.split(' '))\n",
    "df.sample(5)"
   ]
  },
  {
   "cell_type": "code",
   "execution_count": 5,
   "metadata": {},
   "outputs": [
    {
     "data": {
      "text/plain": [
       "32855    [well, explain, cours, offer, veri, good, intr...\n",
       "58922    [find, thi, incred, cours, subject, discuss, f...\n",
       "58457    [sometim, cant, recogn, opportun, hand, even, ...\n",
       "19491                                          [veri, use]\n",
       "40842    [thi, cours, ive, miss, past, year, tri, learn...\n",
       "Name: tokens_keep, dtype: object"
      ]
     },
     "execution_count": 5,
     "metadata": {},
     "output_type": "execute_result"
    }
   ],
   "source": [
    "# It is observed that there are tokens with only one character\n",
    "# its best to remove them as well as they are just adding noise and complexity of the model\n",
    "\n",
    "def remove_single_character_tokens(row, min_length=3):\n",
    "    return [word for word in row['tokens'] if len(word) >= min_length]\n",
    "\n",
    "df['tokens_keep'] = df.apply(remove_single_character_tokens, axis=1)\n",
    "\n",
    "df['tokens_keep'].sample(5)"
   ]
  },
  {
   "cell_type": "code",
   "execution_count": 6,
   "metadata": {},
   "outputs": [
    {
     "name": "stdout",
     "output_type": "stream",
     "text": [
      "20,751 rare words (82.4%) could be dropped to improve the model.\n",
      "unique words before: 25,194\n",
      "unique words after: 4,443\n"
     ]
    }
   ],
   "source": [
    "def exclude_words_that_are_rarely_used(counter_all, min_count=5):\n",
    "    # remove words that appear less than min_count\n",
    "    # this will be used to remove the words that are not frequently used\n",
    "    # since the model can't learn from them effectively\n",
    "\n",
    "    word_count_before = len(counter_all)\n",
    "    counter_after = {token:count for token, count in counter_all.items() if count > min_count}\n",
    "    word_count_after = len(counter_after)\n",
    "    percentage_dropped = (word_count_before - word_count_after) / word_count_before * 100\n",
    "    words_dropped = word_count_before - word_count_after\n",
    "\n",
    "    print('%s rare words (%s) could be dropped to improve the model.' \n",
    "          % (f'{words_dropped:,}',f'{percentage_dropped:.1f}%'))\n",
    "    \n",
    "    print('unique words before: %s\\nunique words after: %s' \n",
    "          % (f'{word_count_before:,}', f'{word_count_after:,}'))\n",
    "    \n",
    "    return counter_after\n",
    "    \n",
    "# using itertool count each elements in tokens column\n",
    "counter_all = Counter(chain.from_iterable(df['tokens']))\n",
    "counter_reduced = exclude_words_that_are_rarely_used(counter_all, min_count=5)\n",
    "words_to_keep = counter_reduced.keys()"
   ]
  },
  {
   "cell_type": "code",
   "execution_count": 7,
   "metadata": {},
   "outputs": [
    {
     "data": {
      "text/html": [
       "<div>\n",
       "<style scoped>\n",
       "    .dataframe tbody tr th:only-of-type {\n",
       "        vertical-align: middle;\n",
       "    }\n",
       "\n",
       "    .dataframe tbody tr th {\n",
       "        vertical-align: top;\n",
       "    }\n",
       "\n",
       "    .dataframe thead th {\n",
       "        text-align: right;\n",
       "    }\n",
       "</style>\n",
       "<table border=\"1\" class=\"dataframe\">\n",
       "  <thead>\n",
       "    <tr style=\"text-align: right;\">\n",
       "      <th></th>\n",
       "      <th>id</th>\n",
       "      <th>course_name</th>\n",
       "      <th>clean_sentence</th>\n",
       "      <th>tokens</th>\n",
       "      <th>tokens_keep</th>\n",
       "      <th>number_of_words_dropped</th>\n",
       "    </tr>\n",
       "  </thead>\n",
       "  <tbody>\n",
       "    <tr>\n",
       "      <th>9725</th>\n",
       "      <td>9725</td>\n",
       "      <td>excel-essentials</td>\n",
       "      <td>ù ø§ ø´ø§ø¡ ø§ùùù ùø§ ùùø© ø¥ùø§ ø¨ø§ù...</td>\n",
       "      <td>[ù, ø§, ø´ø§ø¡, ø§ùùù, ùø§, ùùø©, ø¥ùø§...</td>\n",
       "      <td>[ù, ø§, ù, ù, ø¬ø¯ø§, ù, ù, ùù, ù, ø§, ø¬ø¯ø...</td>\n",
       "      <td>106</td>\n",
       "    </tr>\n",
       "    <tr>\n",
       "      <th>50478</th>\n",
       "      <td>50478</td>\n",
       "      <td>learning-how-to-learn</td>\n",
       "      <td>trã¨ intã©ress je le recommand pour le amoureu...</td>\n",
       "      <td>[trã¨, intã©ress, je, le, recommand, pour, le,...</td>\n",
       "      <td>[trã¨, intã©ress, je, le, recommand, pour, le,...</td>\n",
       "      <td>79</td>\n",
       "    </tr>\n",
       "    <tr>\n",
       "      <th>50350</th>\n",
       "      <td>50350</td>\n",
       "      <td>learning-how-to-learn</td>\n",
       "      <td>ðñðµðºñð°ñð½ñð¹ ðºñññ ðð¾ð¹ ñð¸ð´ð±ñ...</td>\n",
       "      <td>[ðñðµðºñð°ñð½ñð¹, ðºñññ, ðð¾ð¹, ñð¸ð...</td>\n",
       "      <td>[ðºñññ, ð½ðµ, ñð¾ð»ñðºð¾, ðºñññ, ð½ð¾,...</td>\n",
       "      <td>76</td>\n",
       "    </tr>\n",
       "    <tr>\n",
       "      <th>41757</th>\n",
       "      <td>41757</td>\n",
       "      <td>python</td>\n",
       "      <td>review korean korean mooc learner ì  ì´ ê°ì...</td>\n",
       "      <td>[review, korean, korean, mooc, learner, ì, , ...</td>\n",
       "      <td>[review, mooc, learner, ì, ì, ì, ì, ì¸, ì, ì...</td>\n",
       "      <td>74</td>\n",
       "    </tr>\n",
       "    <tr>\n",
       "      <th>50939</th>\n",
       "      <td>50939</td>\n",
       "      <td>learning-how-to-learn</td>\n",
       "      <td>bu kur hakkä±nda bulunan yorumlardan birã§oäu...</td>\n",
       "      <td>[bu, kur, hakkä±nda, bulunan, yorumlardan, bir...</td>\n",
       "      <td>[kur, iã§in, 2, kur, iã§in, de, coursera, ya, ...</td>\n",
       "      <td>68</td>\n",
       "    </tr>\n",
       "  </tbody>\n",
       "</table>\n",
       "</div>"
      ],
      "text/plain": [
       "          id            course_name  \\\n",
       "9725    9725       excel-essentials   \n",
       "50478  50478  learning-how-to-learn   \n",
       "50350  50350  learning-how-to-learn   \n",
       "41757  41757                 python   \n",
       "50939  50939  learning-how-to-learn   \n",
       "\n",
       "                                          clean_sentence  \\\n",
       "9725   ù ø§ ø´ø§ø¡ ø§ùùù ùø§ ùùø© ø¥ùø§ ø¨ø§ù...   \n",
       "50478  trã¨ intã©ress je le recommand pour le amoureu...   \n",
       "50350  ðñðµðºñð°ñð½ñð¹ ðºñññ ðð¾ð¹ ñð¸ð´ð±ñ...   \n",
       "41757  review korean korean mooc learner ì  ì´ ê°ì...   \n",
       "50939  bu kur hakkä±nda bulunan yorumlardan birã§oäu...   \n",
       "\n",
       "                                                  tokens  \\\n",
       "9725   [ù, ø§, ø´ø§ø¡, ø§ùùù, ùø§, ùùø©, ø¥ùø§...   \n",
       "50478  [trã¨, intã©ress, je, le, recommand, pour, le,...   \n",
       "50350  [ðñðµðºñð°ñð½ñð¹, ðºñññ, ðð¾ð¹, ñð¸ð...   \n",
       "41757  [review, korean, korean, mooc, learner, ì, , ...   \n",
       "50939  [bu, kur, hakkä±nda, bulunan, yorumlardan, bir...   \n",
       "\n",
       "                                             tokens_keep  \\\n",
       "9725   [ù, ø§, ù, ù, ø¬ø¯ø§, ù, ù, ùù, ù, ø§, ø¬ø¯ø...   \n",
       "50478  [trã¨, intã©ress, je, le, recommand, pour, le,...   \n",
       "50350  [ðºñññ, ð½ðµ, ñð¾ð»ñðºð¾, ðºñññ, ð½ð¾,...   \n",
       "41757  [review, mooc, learner, ì, ì, ì, ì, ì¸, ì, ì...   \n",
       "50939  [kur, iã§in, 2, kur, iã§in, de, coursera, ya, ...   \n",
       "\n",
       "       number_of_words_dropped  \n",
       "9725                       106  \n",
       "50478                       79  \n",
       "50350                       76  \n",
       "41757                       74  \n",
       "50939                       68  "
      ]
     },
     "execution_count": 7,
     "metadata": {},
     "output_type": "execute_result"
    }
   ],
   "source": [
    "# remove the elements in tokens that are not in words_to_keep\n",
    "def return_words_to_use(row, words_to_keep):\n",
    "    return [word for word in row['tokens'] if word in words_to_keep]\n",
    "\n",
    "df['tokens_keep'] = df.apply(lambda row: return_words_to_use(row, words_to_keep), axis=1)\n",
    "\n",
    "\n",
    "# difference in number of tokens before and after removing the words that are not used often\n",
    "def get_number_of_words_dropped(row):\n",
    "    return len(row['tokens']) - len(row['tokens_keep'])\n",
    "\n",
    "df['number_of_words_dropped'] = df.apply(get_number_of_words_dropped, axis=1)\n",
    "\n",
    "# sort the dataframe by number_of_words_dropped\n",
    "df.sort_values(by='number_of_words_dropped', ascending=False, inplace=True)\n",
    "\n",
    "df.head()"
   ]
  },
  {
   "cell_type": "code",
   "execution_count": 8,
   "metadata": {},
   "outputs": [],
   "source": [
    "# set seed for reproducibility\n",
    "np.random.seed(12)\n",
    "\n",
    "# get index of 20% of random data in the datafram for testing\n",
    "test_index = np.random.choice(df.index, size=int(len(df)*0.2), replace=False)\n",
    "\n",
    "# set up the train and test\n",
    "train = df[~df.index.isin(test_index)]\n",
    "test = df[df.index.isin(test_index)]"
   ]
  },
  {
   "cell_type": "code",
   "execution_count": 9,
   "metadata": {},
   "outputs": [
    {
     "data": {
      "image/png": "[encoded data removed]",
      "text/plain": [
       "<Figure size 720x360 with 1 Axes>"
      ]
     },
     "metadata": {
      "needs_background": "light"
     },
     "output_type": "display_data"
    }
   ],
   "source": [
    "words_to_train_with = Counter(chain.from_iterable(train['tokens_keep']))\n",
    "\n",
    "# plot the top 20 most frequently used in words_to_train_with\n",
    "plt.figure(figsize=(10,5))\n",
    "plt.title('Top 20 most frequently used words')\n",
    "plt.bar(*zip(*words_to_train_with.most_common(20)))\n",
    "plt.xticks(rotation=45)\n",
    "plt.show()"
   ]
  },
  {
   "cell_type": "code",
   "execution_count": 10,
   "metadata": {},
   "outputs": [
    {
     "data": {
      "text/plain": [
       "({'got': True,\n",
       "  'comprehens': True,\n",
       "  'overview': True,\n",
       "  'ai': True,\n",
       "  'mean': True,\n",
       "  'variou': True,\n",
       "  'concept': True,\n",
       "  'talk': True,\n",
       "  'thi': True,\n",
       "  'context': True,\n",
       "  'excel': True,\n",
       "  'cours': True,\n",
       "  'one': True,\n",
       "  'start': True,\n",
       "  'solid': True,\n",
       "  'ground': True,\n",
       "  'five': True,\n",
       "  'star': True,\n",
       "  'thank': True,\n",
       "  'andrew': True},\n",
       " 'ai-for-everyone')"
      ]
     },
     "execution_count": 10,
     "metadata": {},
     "output_type": "execute_result"
    }
   ],
   "source": [
    "# make a tuple of tokens_keep and classification\n",
    "\n",
    "def prepare_train_data(row):\n",
    "    x = {token:True for token in row['tokens_keep']}\n",
    "    y = row['course_name']\n",
    "    return (x, y)\n",
    "\n",
    "train_data = train.apply(prepare_train_data, axis=1)\n",
    "train_data[0]"
   ]
  },
  {
   "cell_type": "code",
   "execution_count": 11,
   "metadata": {},
   "outputs": [],
   "source": [
    "model_nb = nltk.NaiveBayesClassifier.train(train_data)"
   ]
  },
  {
   "cell_type": "code",
   "execution_count": 12,
   "metadata": {},
   "outputs": [
    {
     "name": "stdout",
     "output_type": "stream",
     "text": [
      "Most Informative Features\n",
      "                  python = True           python : excel- =   2439.6 : 1.0\n",
      "                      ai = True           ai-for : excel- =   2143.0 : 1.0\n",
      "                      dr = True           python : founda =    838.4 : 1.0\n",
      "              cybersecur = True           introd : learni =    609.3 : 1.0\n",
      "                 barbara = True           learni : ai-for =    537.1 : 1.0\n",
      "                   cyber = True           introd : python =    522.1 : 1.0\n",
      "                   secur = True           introd : excel- =    463.6 : 1.0\n",
      "                   chuck = True           python : learni =    410.7 : 1.0\n",
      "                 analyst = True           founda : learni =    406.6 : 1.0\n",
      "                   audio = True           introd : ai-for =    396.1 : 1.0\n",
      "                     web = True           python : founda =    368.2 : 1.0\n",
      "                     ibm = True           introd : ai-for =    316.5 : 1.0\n",
      "                  analyt = True           founda : learni =    279.7 : 1.0\n",
      "                  andrew = True           ai-for : learni =    250.4 : 1.0\n",
      "                   sound = True           introd : excel- =    240.7 : 1.0\n",
      "                     tip = True           learni : ai-for =    236.8 : 1.0\n",
      "                   brain = True           learni : ai-for =    232.7 : 1.0\n",
      "                    poor = True           introd : founda =    223.7 : 1.0\n",
      "                     api = True           python : ai-for =    217.0 : 1.0\n",
      "               interview = True           learni : excel- =    202.9 : 1.0\n",
      "                   habit = True           learni : ai-for =    186.2 : 1.0\n",
      "                  memori = True           learni : ai-for =    174.5 : 1.0\n",
      "                 analysi = True           founda : learni =    163.6 : 1.0\n",
      "                  attack = True           introd : excel- =    154.5 : 1.0\n",
      "                michigan = True           python : learni =    146.0 : 1.0\n"
     ]
    }
   ],
   "source": [
    "model_nb.show_most_informative_features(25)"
   ]
  },
  {
   "cell_type": "code",
   "execution_count": 13,
   "metadata": {},
   "outputs": [
    {
     "data": {
      "text/html": [
       "<div>\n",
       "<style scoped>\n",
       "    .dataframe tbody tr th:only-of-type {\n",
       "        vertical-align: middle;\n",
       "    }\n",
       "\n",
       "    .dataframe tbody tr th {\n",
       "        vertical-align: top;\n",
       "    }\n",
       "\n",
       "    .dataframe thead th {\n",
       "        text-align: right;\n",
       "    }\n",
       "</style>\n",
       "<table border=\"1\" class=\"dataframe\">\n",
       "  <thead>\n",
       "    <tr style=\"text-align: right;\">\n",
       "      <th></th>\n",
       "      <th>course_name</th>\n",
       "      <th>predicted_course_name</th>\n",
       "    </tr>\n",
       "  </thead>\n",
       "  <tbody>\n",
       "    <tr>\n",
       "      <th>27801</th>\n",
       "      <td>foundations-data</td>\n",
       "      <td>excel-essentials</td>\n",
       "    </tr>\n",
       "    <tr>\n",
       "      <th>42576</th>\n",
       "      <td>python</td>\n",
       "      <td>python</td>\n",
       "    </tr>\n",
       "    <tr>\n",
       "      <th>31688</th>\n",
       "      <td>introduction-cybersecurity-cyber-attacks</td>\n",
       "      <td>introduction-cybersecurity-cyber-attacks</td>\n",
       "    </tr>\n",
       "    <tr>\n",
       "      <th>40392</th>\n",
       "      <td>python</td>\n",
       "      <td>python</td>\n",
       "    </tr>\n",
       "    <tr>\n",
       "      <th>7943</th>\n",
       "      <td>ai-for-everyone</td>\n",
       "      <td>python</td>\n",
       "    </tr>\n",
       "    <tr>\n",
       "      <th>36050</th>\n",
       "      <td>python-network-data</td>\n",
       "      <td>excel-essentials</td>\n",
       "    </tr>\n",
       "    <tr>\n",
       "      <th>22343</th>\n",
       "      <td>foundations-data</td>\n",
       "      <td>python</td>\n",
       "    </tr>\n",
       "    <tr>\n",
       "      <th>30391</th>\n",
       "      <td>introduction-cybersecurity-cyber-attacks</td>\n",
       "      <td>learning-how-to-learn</td>\n",
       "    </tr>\n",
       "    <tr>\n",
       "      <th>50275</th>\n",
       "      <td>learning-how-to-learn</td>\n",
       "      <td>learning-how-to-learn</td>\n",
       "    </tr>\n",
       "    <tr>\n",
       "      <th>57037</th>\n",
       "      <td>learning-how-to-learn</td>\n",
       "      <td>learning-how-to-learn</td>\n",
       "    </tr>\n",
       "  </tbody>\n",
       "</table>\n",
       "</div>"
      ],
      "text/plain": [
       "                                    course_name  \\\n",
       "27801                          foundations-data   \n",
       "42576                                    python   \n",
       "31688  introduction-cybersecurity-cyber-attacks   \n",
       "40392                                    python   \n",
       "7943                            ai-for-everyone   \n",
       "36050                       python-network-data   \n",
       "22343                          foundations-data   \n",
       "30391  introduction-cybersecurity-cyber-attacks   \n",
       "50275                     learning-how-to-learn   \n",
       "57037                     learning-how-to-learn   \n",
       "\n",
       "                          predicted_course_name  \n",
       "27801                          excel-essentials  \n",
       "42576                                    python  \n",
       "31688  introduction-cybersecurity-cyber-attacks  \n",
       "40392                                    python  \n",
       "7943                                     python  \n",
       "36050                          excel-essentials  \n",
       "22343                                    python  \n",
       "30391                     learning-how-to-learn  \n",
       "50275                     learning-how-to-learn  \n",
       "57037                     learning-how-to-learn  "
      ]
     },
     "execution_count": 13,
     "metadata": {},
     "output_type": "execute_result"
    }
   ],
   "source": [
    "# make a def to predict the course name using the model_nb\n",
    "def predict_course_name(row, model, words_to_train_with):\n",
    "    x = {token:True for token in row['tokens_keep'] if token in words_to_train_with}\n",
    "        \n",
    "    return model.classify(x)\n",
    "\n",
    "test['predicted_course_name'] = test.apply(lambda row: predict_course_name(row, model_nb, words_to_train_with), axis=1)\n",
    "test[['course_name', 'predicted_course_name']].sample(10)"
   ]
  },
  {
   "cell_type": "code",
   "execution_count": 14,
   "metadata": {},
   "outputs": [
    {
     "name": "stdout",
     "output_type": "stream",
     "text": [
      "Accuracy of the model: 49.71%\n"
     ]
    }
   ],
   "source": [
    "# calculate the accuracy of the model\n",
    "accuracy = nltk.classify.accuracy(model_nb, train_data)\n",
    "print('Accuracy of the model: %s' % f'{accuracy:.2%}')"
   ]
  },
  {
   "cell_type": "code",
   "execution_count": 15,
   "metadata": {},
   "outputs": [
    {
     "data": {
      "image/png": "[encoded data removed]",
      "text/plain": [
       "<Figure size 432x288 with 2 Axes>"
      ]
     },
     "metadata": {
      "needs_background": "light"
     },
     "output_type": "display_data"
    }
   ],
   "source": [
    "# calculate the confusion matrix of the model using sklearn\n",
    "from sklearn.metrics import confusion_matrix, ConfusionMatrixDisplay\n",
    "classification_labels = test['course_name'].unique()\n",
    "cmx = confusion_matrix(test['course_name'], test['predicted_course_name'], labels=classification_labels)\n",
    "\n",
    "ConfusionMatrixDisplay(confusion_matrix=cmx, display_labels=list(classification_labels)).plot( cmap='Blues',xticks_rotation='vertical')\n",
    "plt.show()"
   ]
  },
  {
   "cell_type": "code",
   "execution_count": 16,
   "metadata": {},
   "outputs": [
    {
     "data": {
      "text/html": [
       "<div>\n",
       "<style scoped>\n",
       "    .dataframe tbody tr th:only-of-type {\n",
       "        vertical-align: middle;\n",
       "    }\n",
       "\n",
       "    .dataframe tbody tr th {\n",
       "        vertical-align: top;\n",
       "    }\n",
       "\n",
       "    .dataframe thead th {\n",
       "        text-align: right;\n",
       "    }\n",
       "</style>\n",
       "<table border=\"1\" class=\"dataframe\">\n",
       "  <thead>\n",
       "    <tr style=\"text-align: right;\">\n",
       "      <th></th>\n",
       "      <th>excel-essentials</th>\n",
       "      <th>learning-how-to-learn</th>\n",
       "      <th>python-network-data</th>\n",
       "      <th>python</th>\n",
       "      <th>foundations-data</th>\n",
       "      <th>ai-for-everyone</th>\n",
       "      <th>introduction-cybersecurity-cyber-attacks</th>\n",
       "    </tr>\n",
       "  </thead>\n",
       "  <tbody>\n",
       "    <tr>\n",
       "      <th>excel-essentials</th>\n",
       "      <td>302</td>\n",
       "      <td>730</td>\n",
       "      <td>0</td>\n",
       "      <td>896</td>\n",
       "      <td>10</td>\n",
       "      <td>6</td>\n",
       "      <td>2</td>\n",
       "    </tr>\n",
       "    <tr>\n",
       "      <th>learning-how-to-learn</th>\n",
       "      <td>1</td>\n",
       "      <td>1968</td>\n",
       "      <td>0</td>\n",
       "      <td>68</td>\n",
       "      <td>1</td>\n",
       "      <td>0</td>\n",
       "      <td>0</td>\n",
       "    </tr>\n",
       "    <tr>\n",
       "      <th>python-network-data</th>\n",
       "      <td>88</td>\n",
       "      <td>249</td>\n",
       "      <td>192</td>\n",
       "      <td>944</td>\n",
       "      <td>8</td>\n",
       "      <td>33</td>\n",
       "      <td>3</td>\n",
       "    </tr>\n",
       "    <tr>\n",
       "      <th>python</th>\n",
       "      <td>2</td>\n",
       "      <td>122</td>\n",
       "      <td>0</td>\n",
       "      <td>1860</td>\n",
       "      <td>0</td>\n",
       "      <td>1</td>\n",
       "      <td>0</td>\n",
       "    </tr>\n",
       "    <tr>\n",
       "      <th>foundations-data</th>\n",
       "      <td>72</td>\n",
       "      <td>537</td>\n",
       "      <td>1</td>\n",
       "      <td>829</td>\n",
       "      <td>572</td>\n",
       "      <td>15</td>\n",
       "      <td>4</td>\n",
       "    </tr>\n",
       "    <tr>\n",
       "      <th>ai-for-everyone</th>\n",
       "      <td>66</td>\n",
       "      <td>483</td>\n",
       "      <td>2</td>\n",
       "      <td>574</td>\n",
       "      <td>7</td>\n",
       "      <td>807</td>\n",
       "      <td>5</td>\n",
       "    </tr>\n",
       "    <tr>\n",
       "      <th>introduction-cybersecurity-cyber-attacks</th>\n",
       "      <td>34</td>\n",
       "      <td>153</td>\n",
       "      <td>0</td>\n",
       "      <td>165</td>\n",
       "      <td>12</td>\n",
       "      <td>32</td>\n",
       "      <td>181</td>\n",
       "    </tr>\n",
       "  </tbody>\n",
       "</table>\n",
       "</div>"
      ],
      "text/plain": [
       "                                          excel-essentials  \\\n",
       "excel-essentials                                       302   \n",
       "learning-how-to-learn                                    1   \n",
       "python-network-data                                     88   \n",
       "python                                                   2   \n",
       "foundations-data                                        72   \n",
       "ai-for-everyone                                         66   \n",
       "introduction-cybersecurity-cyber-attacks                34   \n",
       "\n",
       "                                          learning-how-to-learn  \\\n",
       "excel-essentials                                            730   \n",
       "learning-how-to-learn                                      1968   \n",
       "python-network-data                                         249   \n",
       "python                                                      122   \n",
       "foundations-data                                            537   \n",
       "ai-for-everyone                                             483   \n",
       "introduction-cybersecurity-cyber-attacks                    153   \n",
       "\n",
       "                                          python-network-data  python  \\\n",
       "excel-essentials                                            0     896   \n",
       "learning-how-to-learn                                       0      68   \n",
       "python-network-data                                       192     944   \n",
       "python                                                      0    1860   \n",
       "foundations-data                                            1     829   \n",
       "ai-for-everyone                                             2     574   \n",
       "introduction-cybersecurity-cyber-attacks                    0     165   \n",
       "\n",
       "                                          foundations-data  ai-for-everyone  \\\n",
       "excel-essentials                                        10                6   \n",
       "learning-how-to-learn                                    1                0   \n",
       "python-network-data                                      8               33   \n",
       "python                                                   0                1   \n",
       "foundations-data                                       572               15   \n",
       "ai-for-everyone                                          7              807   \n",
       "introduction-cybersecurity-cyber-attacks                12               32   \n",
       "\n",
       "                                          introduction-cybersecurity-cyber-attacks  \n",
       "excel-essentials                                                                 2  \n",
       "learning-how-to-learn                                                            0  \n",
       "python-network-data                                                              3  \n",
       "python                                                                           0  \n",
       "foundations-data                                                                 4  \n",
       "ai-for-everyone                                                                  5  \n",
       "introduction-cybersecurity-cyber-attacks                                       181  "
      ]
     },
     "execution_count": 16,
     "metadata": {},
     "output_type": "execute_result"
    }
   ],
   "source": [
    "# make a dataframe that holds the confusion matrix\n",
    "cmx_df = pd.DataFrame(cmx, index=classification_labels, columns=classification_labels)\n",
    "cmx_df"
   ]
  },
  {
   "cell_type": "code",
   "execution_count": 17,
   "metadata": {},
   "outputs": [
    {
     "name": "stdout",
     "output_type": "stream",
     "text": [
      "precision: 72.86% \n",
      "recall: 45.64% \n",
      "f1-measure: 43.87%\n"
     ]
    }
   ],
   "source": [
    "# calculate the precision, recall, f1-measure of the model\n",
    "from sklearn.metrics import precision_recall_fscore_support\n",
    "precision, recall, f1, _ = precision_recall_fscore_support(test['course_name'], test['predicted_course_name'], labels=classification_labels)\n",
    "\n",
    "# average the precision, recall, f1-measure\n",
    "precision_avg = np.average(precision)\n",
    "recall_avg = np.average(recall)\n",
    "f1_avg = np.average(f1)\n",
    "\n",
    "# show the results\n",
    "print('precision: %s \\nrecall: %s \\nf1-measure: %s' % (f'{precision_avg:.2%}', f'{recall_avg:.2%}', f'{f1_avg:.2%}'))"
   ]
  },
  {
   "cell_type": "markdown",
   "metadata": {},
   "source": [
    "## SVM Model"
   ]
  },
  {
   "cell_type": "code",
   "execution_count": 99,
   "metadata": {},
   "outputs": [],
   "source": [
    "# using instructions as found in this Medium article:\n",
    "# https://medium.com/@bedigunjit/simple-guide-to-text-classification-nlp-using-svm-and-naive-bayes-with-python-421db3a72d34\n",
    "\n",
    "from sklearn import model_selection\n",
    "Train_X, Test_X, Train_Y, Test_Y = model_selection.train_test_split(df['tokens_keep'], df['course_name'],test_size=0.3)\n"
   ]
  },
  {
   "cell_type": "code",
   "execution_count": 62,
   "metadata": {},
   "outputs": [],
   "source": [
    "from sklearn.preprocessing import LabelEncoder\n",
    "Encoder = LabelEncoder()\n",
    "Train_Y = Encoder.fit_transform(train[['course_name']])\n",
    "Test_Y = Encoder.fit_transform(test[['course_name']])"
   ]
  },
  {
   "cell_type": "code",
   "execution_count": 63,
   "metadata": {},
   "outputs": [],
   "source": [
    "Tfidf_vect = TfidfVectorizer(max_features=5000)"
   ]
  },
  {
   "cell_type": "code",
   "execution_count": 78,
   "metadata": {},
   "outputs": [
    {
     "data": {
      "text/html": [
       "<style>#sk-container-id-2 {color: black;background-color: white;}#sk-container-id-2 pre{padding: 0;}#sk-container-id-2 div.sk-toggleable {background-color: white;}#sk-container-id-2 label.sk-toggleable__label {cursor: pointer;display: block;width: 100%;margin-bottom: 0;padding: 0.3em;box-sizing: border-box;text-align: center;}#sk-container-id-2 label.sk-toggleable__label-arrow:before {content: \"▸\";float: left;margin-right: 0.25em;color: #696969;}#sk-container-id-2 label.sk-toggleable__label-arrow:hover:before {color: black;}#sk-container-id-2 div.sk-estimator:hover label.sk-toggleable__label-arrow:before {color: black;}#sk-container-id-2 div.sk-toggleable__content {max-height: 0;max-width: 0;overflow: hidden;text-align: left;background-color: #f0f8ff;}#sk-container-id-2 div.sk-toggleable__content pre {margin: 0.2em;color: black;border-radius: 0.25em;background-color: #f0f8ff;}#sk-container-id-2 input.sk-toggleable__control:checked~div.sk-toggleable__content {max-height: 200px;max-width: 100%;overflow: auto;}#sk-container-id-2 input.sk-toggleable__control:checked~label.sk-toggleable__label-arrow:before {content: \"▾\";}#sk-container-id-2 div.sk-estimator input.sk-toggleable__control:checked~label.sk-toggleable__label {background-color: #d4ebff;}#sk-container-id-2 div.sk-label input.sk-toggleable__control:checked~label.sk-toggleable__label {background-color: #d4ebff;}#sk-container-id-2 input.sk-hidden--visually {border: 0;clip: rect(1px 1px 1px 1px);clip: rect(1px, 1px, 1px, 1px);height: 1px;margin: -1px;overflow: hidden;padding: 0;position: absolute;width: 1px;}#sk-container-id-2 div.sk-estimator {font-family: monospace;background-color: #f0f8ff;border: 1px dotted black;border-radius: 0.25em;box-sizing: border-box;margin-bottom: 0.5em;}#sk-container-id-2 div.sk-estimator:hover {background-color: #d4ebff;}#sk-container-id-2 div.sk-parallel-item::after {content: \"\";width: 100%;border-bottom: 1px solid gray;flex-grow: 1;}#sk-container-id-2 div.sk-label:hover label.sk-toggleable__label {background-color: #d4ebff;}#sk-container-id-2 div.sk-serial::before {content: \"\";position: absolute;border-left: 1px solid gray;box-sizing: border-box;top: 0;bottom: 0;left: 50%;z-index: 0;}#sk-container-id-2 div.sk-serial {display: flex;flex-direction: column;align-items: center;background-color: white;padding-right: 0.2em;padding-left: 0.2em;position: relative;}#sk-container-id-2 div.sk-item {position: relative;z-index: 1;}#sk-container-id-2 div.sk-parallel {display: flex;align-items: stretch;justify-content: center;background-color: white;position: relative;}#sk-container-id-2 div.sk-item::before, #sk-container-id-2 div.sk-parallel-item::before {content: \"\";position: absolute;border-left: 1px solid gray;box-sizing: border-box;top: 0;bottom: 0;left: 50%;z-index: -1;}#sk-container-id-2 div.sk-parallel-item {display: flex;flex-direction: column;z-index: 1;position: relative;background-color: white;}#sk-container-id-2 div.sk-parallel-item:first-child::after {align-self: flex-end;width: 50%;}#sk-container-id-2 div.sk-parallel-item:last-child::after {align-self: flex-start;width: 50%;}#sk-container-id-2 div.sk-parallel-item:only-child::after {width: 0;}#sk-container-id-2 div.sk-dashed-wrapped {border: 1px dashed gray;margin: 0 0.4em 0.5em 0.4em;box-sizing: border-box;padding-bottom: 0.4em;background-color: white;}#sk-container-id-2 div.sk-label label {font-family: monospace;font-weight: bold;display: inline-block;line-height: 1.2em;}#sk-container-id-2 div.sk-label-container {text-align: center;}#sk-container-id-2 div.sk-container {/* jupyter's `normalize.less` sets `[hidden] { display: none; }` but bootstrap.min.css set `[hidden] { display: none !important; }` so we also need the `!important` here to be able to override the default hidden behavior on the sphinx rendered scikit-learn.org. See: https://github.com/scikit-learn/scikit-learn/issues/21755 */display: inline-block !important;position: relative;}#sk-container-id-2 div.sk-text-repr-fallback {display: none;}</style><div id=\"sk-container-id-2\" class=\"sk-top-container\"><div class=\"sk-text-repr-fallback\"><pre>TfidfVectorizer(max_features=5000)</pre><b>In a Jupyter environment, please rerun this cell to show the HTML representation or trust the notebook. <br />On GitHub, the HTML representation is unable to render, please try loading this page with nbviewer.org.</b></div><div class=\"sk-container\" hidden><div class=\"sk-item\"><div class=\"sk-estimator sk-toggleable\"><input class=\"sk-toggleable__control sk-hidden--visually\" id=\"sk-estimator-id-2\" type=\"checkbox\" checked><label for=\"sk-estimator-id-2\" class=\"sk-toggleable__label sk-toggleable__label-arrow\">TfidfVectorizer</label><div class=\"sk-toggleable__content\"><pre>TfidfVectorizer(max_features=5000)</pre></div></div></div></div></div>"
      ],
      "text/plain": [
       "TfidfVectorizer(max_features=5000)"
      ]
     },
     "execution_count": 78,
     "metadata": {},
     "output_type": "execute_result"
    }
   ],
   "source": [
    "Tfidf_vect.fit(str(df[['tokens_keep']]).lower().split())"
   ]
  },
  {
   "cell_type": "code",
   "execution_count": 107,
   "metadata": {},
   "outputs": [],
   "source": [
    "Train_X_Tfidf = Tfidf_vect.transform(str(Train_X).lower().split())\n",
    "Test_X_Tfidf = Tfidf_vect.transform(str(Test_X).lower().split())"
   ]
  },
  {
   "cell_type": "code",
   "execution_count": 108,
   "metadata": {},
   "outputs": [
    {
     "name": "stdout",
     "output_type": "stream",
     "text": [
      "{'tokens_keep': 50, '9725': 10, '50478': 7, 'trã': 51, 'intã': 27, 'ress': 42, 'je': 29, 'le': 31, 'recommand': 40, 'pour': 37, '50350': 6, 'ðºñ': 59, 'ð½ðµ': 60, 'ð¾ð': 62, 'ðºð¾': 58, 'ð½ð¾': 61, '41757': 5, 'review': 43, 'mooc': 35, 'learner': 33, '50939': 8, 'kur': 30, 'iã': 28, 'in': 25, 'de': 18, 'coursera': 15, 'ya': 56, '22217': 0, 'video': 53, 'clear': 13, 'direct': 20, 'busi': 12, 'schedul': 45, 'realli': 39, '22218': 1, 'veri': 52, 'good': 22, 'gentl': 21, 'introduct': 26, 'data': 17, 'analysi': 11, '22219': 2, 'help': 24, 'learn': 32, 'point': 36, 'repeat': 41, 'stick': 47, 'less': 34, '22220': 3, 'detail': 19, 'yet': 57, 'straight': 48, 're': 38, '30093': 4, 'wa': 54, 'great': 23, 'cyber': 16, 'secur': 46, 'world': 55, 'th': 49, '60186': 9, 'rows': 44, 'columns': 14}\n"
     ]
    }
   ],
   "source": [
    "print(Tfidf_vect.vocabulary_)"
   ]
  },
  {
   "cell_type": "code",
   "execution_count": 109,
   "metadata": {},
   "outputs": [
    {
     "name": "stdout",
     "output_type": "stream",
     "text": [
      "  (8, 51)\t1.0\n",
      "  (27, 24)\t1.0\n",
      "  (49, 39)\t1.0\n",
      "  (50, 23)\t1.0\n",
      "  (51, 54)\t1.0\n",
      "  (52, 52)\t1.0\n",
      "  (53, 22)\t1.0\n",
      "  (56, 53)\t1.0\n",
      "  (67, 50)\t1.0\n"
     ]
    }
   ],
   "source": [
    "print(Train_X_Tfidf)"
   ]
  },
  {
   "cell_type": "code",
   "execution_count": 110,
   "metadata": {},
   "outputs": [],
   "source": [
    "SVM = svm.SVC(C=1.0, kernel='linear', degree=3, gamma='auto')"
   ]
  },
  {
   "cell_type": "code",
   "execution_count": 114,
   "metadata": {},
   "outputs": [
    {
     "data": {
      "text/plain": [
       "(72, 63)"
      ]
     },
     "execution_count": 114,
     "metadata": {},
     "output_type": "execute_result"
    }
   ],
   "source": [
    "Train_X_Tfidf.shape"
   ]
  },
  {
   "cell_type": "code",
   "execution_count": 115,
   "metadata": {},
   "outputs": [
    {
     "data": {
      "text/plain": [
       "(42130,)"
      ]
     },
     "execution_count": 115,
     "metadata": {},
     "output_type": "execute_result"
    }
   ],
   "source": [
    "Train_Y.shape"
   ]
  },
  {
   "cell_type": "code",
   "execution_count": 126,
   "metadata": {},
   "outputs": [
    {
     "data": {
      "text/html": [
       "<style>#sk-container-id-4 {color: black;background-color: white;}#sk-container-id-4 pre{padding: 0;}#sk-container-id-4 div.sk-toggleable {background-color: white;}#sk-container-id-4 label.sk-toggleable__label {cursor: pointer;display: block;width: 100%;margin-bottom: 0;padding: 0.3em;box-sizing: border-box;text-align: center;}#sk-container-id-4 label.sk-toggleable__label-arrow:before {content: \"▸\";float: left;margin-right: 0.25em;color: #696969;}#sk-container-id-4 label.sk-toggleable__label-arrow:hover:before {color: black;}#sk-container-id-4 div.sk-estimator:hover label.sk-toggleable__label-arrow:before {color: black;}#sk-container-id-4 div.sk-toggleable__content {max-height: 0;max-width: 0;overflow: hidden;text-align: left;background-color: #f0f8ff;}#sk-container-id-4 div.sk-toggleable__content pre {margin: 0.2em;color: black;border-radius: 0.25em;background-color: #f0f8ff;}#sk-container-id-4 input.sk-toggleable__control:checked~div.sk-toggleable__content {max-height: 200px;max-width: 100%;overflow: auto;}#sk-container-id-4 input.sk-toggleable__control:checked~label.sk-toggleable__label-arrow:before {content: \"▾\";}#sk-container-id-4 div.sk-estimator input.sk-toggleable__control:checked~label.sk-toggleable__label {background-color: #d4ebff;}#sk-container-id-4 div.sk-label input.sk-toggleable__control:checked~label.sk-toggleable__label {background-color: #d4ebff;}#sk-container-id-4 input.sk-hidden--visually {border: 0;clip: rect(1px 1px 1px 1px);clip: rect(1px, 1px, 1px, 1px);height: 1px;margin: -1px;overflow: hidden;padding: 0;position: absolute;width: 1px;}#sk-container-id-4 div.sk-estimator {font-family: monospace;background-color: #f0f8ff;border: 1px dotted black;border-radius: 0.25em;box-sizing: border-box;margin-bottom: 0.5em;}#sk-container-id-4 div.sk-estimator:hover {background-color: #d4ebff;}#sk-container-id-4 div.sk-parallel-item::after {content: \"\";width: 100%;border-bottom: 1px solid gray;flex-grow: 1;}#sk-container-id-4 div.sk-label:hover label.sk-toggleable__label {background-color: #d4ebff;}#sk-container-id-4 div.sk-serial::before {content: \"\";position: absolute;border-left: 1px solid gray;box-sizing: border-box;top: 0;bottom: 0;left: 50%;z-index: 0;}#sk-container-id-4 div.sk-serial {display: flex;flex-direction: column;align-items: center;background-color: white;padding-right: 0.2em;padding-left: 0.2em;position: relative;}#sk-container-id-4 div.sk-item {position: relative;z-index: 1;}#sk-container-id-4 div.sk-parallel {display: flex;align-items: stretch;justify-content: center;background-color: white;position: relative;}#sk-container-id-4 div.sk-item::before, #sk-container-id-4 div.sk-parallel-item::before {content: \"\";position: absolute;border-left: 1px solid gray;box-sizing: border-box;top: 0;bottom: 0;left: 50%;z-index: -1;}#sk-container-id-4 div.sk-parallel-item {display: flex;flex-direction: column;z-index: 1;position: relative;background-color: white;}#sk-container-id-4 div.sk-parallel-item:first-child::after {align-self: flex-end;width: 50%;}#sk-container-id-4 div.sk-parallel-item:last-child::after {align-self: flex-start;width: 50%;}#sk-container-id-4 div.sk-parallel-item:only-child::after {width: 0;}#sk-container-id-4 div.sk-dashed-wrapped {border: 1px dashed gray;margin: 0 0.4em 0.5em 0.4em;box-sizing: border-box;padding-bottom: 0.4em;background-color: white;}#sk-container-id-4 div.sk-label label {font-family: monospace;font-weight: bold;display: inline-block;line-height: 1.2em;}#sk-container-id-4 div.sk-label-container {text-align: center;}#sk-container-id-4 div.sk-container {/* jupyter's `normalize.less` sets `[hidden] { display: none; }` but bootstrap.min.css set `[hidden] { display: none !important; }` so we also need the `!important` here to be able to override the default hidden behavior on the sphinx rendered scikit-learn.org. See: https://github.com/scikit-learn/scikit-learn/issues/21755 */display: inline-block !important;position: relative;}#sk-container-id-4 div.sk-text-repr-fallback {display: none;}</style><div id=\"sk-container-id-4\" class=\"sk-top-container\"><div class=\"sk-text-repr-fallback\"><pre>SVC(gamma=&#x27;auto&#x27;, kernel=&#x27;linear&#x27;)</pre><b>In a Jupyter environment, please rerun this cell to show the HTML representation or trust the notebook. <br />On GitHub, the HTML representation is unable to render, please try loading this page with nbviewer.org.</b></div><div class=\"sk-container\" hidden><div class=\"sk-item\"><div class=\"sk-estimator sk-toggleable\"><input class=\"sk-toggleable__control sk-hidden--visually\" id=\"sk-estimator-id-4\" type=\"checkbox\" checked><label for=\"sk-estimator-id-4\" class=\"sk-toggleable__label sk-toggleable__label-arrow\">SVC</label><div class=\"sk-toggleable__content\"><pre>SVC(gamma=&#x27;auto&#x27;, kernel=&#x27;linear&#x27;)</pre></div></div></div></div></div>"
      ],
      "text/plain": [
       "SVC(gamma='auto', kernel='linear')"
      ]
     },
     "execution_count": 126,
     "metadata": {},
     "output_type": "execute_result"
    }
   ],
   "source": [
    "# used a sample of Train_Y shape to prevent the error:\n",
    "# \"ValueError: Found input variables with inconsistent numbers of samples: [72, 42130]\"\n",
    "SVM.fit(Train_X_Tfidf,Train_Y.sample(72))"
   ]
  },
  {
   "cell_type": "code",
   "execution_count": 118,
   "metadata": {},
   "outputs": [],
   "source": [
    "predictions_SVM = SVM.predict(Test_X_Tfidf)"
   ]
  },
  {
   "cell_type": "code",
   "execution_count": 120,
   "metadata": {},
   "outputs": [
    {
     "data": {
      "text/plain": [
       "(80,)"
      ]
     },
     "execution_count": 120,
     "metadata": {},
     "output_type": "execute_result"
    }
   ],
   "source": [
    "predictions_SVM.shape"
   ]
  },
  {
   "cell_type": "code",
   "execution_count": 122,
   "metadata": {},
   "outputs": [
    {
     "data": {
      "text/plain": [
       "(18056,)"
      ]
     },
     "execution_count": 122,
     "metadata": {},
     "output_type": "execute_result"
    }
   ],
   "source": [
    "Test_Y.shape"
   ]
  },
  {
   "cell_type": "code",
   "execution_count": 148,
   "metadata": {},
   "outputs": [
    {
     "name": "stdout",
     "output_type": "stream",
     "text": [
      "SVM Accuracy Score ->  26.25\n"
     ]
    }
   ],
   "source": [
    "# used a sample of Train_Y shape to prevent the error:\n",
    "# \"ValueError: Found input variables with inconsistent numbers of samples: [80, 18056]\"\n",
    "print(\"SVM Accuracy Score -> \", accuracy_score(predictions_SVM, Test_Y.sample(80))*100)"
   ]
  }
 ],
 "metadata": {
  "kernelspec": {
   "display_name": "Python 3 (ipykernel)",
   "language": "python",
   "name": "python3"
  },
  "language_info": {
   "codemirror_mode": {
    "name": "ipython",
    "version": 3
   },
   "file_extension": ".py",
   "mimetype": "text/x-python",
   "name": "python",
   "nbconvert_exporter": "python",
   "pygments_lexer": "ipython3",
   "version": "3.9.1"
  },
  "vscode": {
   "interpreter": {
    "hash": "aee8b7b246df8f9039afb4144a1f6fd8d2ca17a180786b69acc140d282b71a49"
   }
  }
 },
 "nbformat": 4,
 "nbformat_minor": 2
}

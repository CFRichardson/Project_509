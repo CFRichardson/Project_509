{
 "cells": [
  {
   "cell_type": "markdown",
   "metadata": {
    "pycharm": {
     "name": "#%% md\n"
    }
   },
   "source": [
    "### Loading Required Libraries"
   ]
  },
  {
   "cell_type": "code",
   "execution_count": 1,
   "metadata": {
    "pycharm": {
     "name": "#%%\n"
    }
   },
   "outputs": [],
   "source": [
    "import matplotlib.pyplot as plt\n",
    "import nltk\n",
    "import numpy as np\n",
    "import pandas as pd\n",
    "import pyLDAvis\n",
    "import pyLDAvis.sklearn\n",
    "import spacy\n",
    "# import spacy.cli\n",
    "# spacy.cli.download(\"en_core_web_md\")\n",
    "import spacy_fastlang\n",
    "import warnings\n",
    "warnings.filterwarnings(\"ignore\")\n",
    "warnings.filterwarnings(\"ignore\", category=DeprecationWarning) \n",
    "\n",
    "from bertopic import BERTopic\n",
    "from sklearn.decomposition import LatentDirichletAllocation\n",
    "from sklearn.feature_extraction.text import CountVectorizer\n",
    "from sqlite3 import connect \n",
    "from spacy.lang.en.stop_words import STOP_WORDS as stopwords"
   ]
  },
  {
   "cell_type": "code",
   "execution_count": 4,
   "metadata": {
    "pycharm": {
     "name": "#%%\n"
    }
   },
   "outputs": [
    {
     "data": {
      "text/html": [
       "<div>\n",
       "<style scoped>\n",
       "    .dataframe tbody tr th:only-of-type {\n",
       "        vertical-align: middle;\n",
       "    }\n",
       "\n",
       "    .dataframe tbody tr th {\n",
       "        vertical-align: top;\n",
       "    }\n",
       "\n",
       "    .dataframe thead th {\n",
       "        text-align: right;\n",
       "    }\n",
       "</style>\n",
       "<table border=\"1\" class=\"dataframe\">\n",
       "  <thead>\n",
       "    <tr style=\"text-align: right;\">\n",
       "      <th></th>\n",
       "      <th>id</th>\n",
       "      <th>course_name</th>\n",
       "      <th>text</th>\n",
       "    </tr>\n",
       "  </thead>\n",
       "  <tbody>\n",
       "    <tr>\n",
       "      <th>24070</th>\n",
       "      <td>24070</td>\n",
       "      <td>foundations-data</td>\n",
       "      <td>Very good contents and the instructor makes it...</td>\n",
       "    </tr>\n",
       "    <tr>\n",
       "      <th>38257</th>\n",
       "      <td>38257</td>\n",
       "      <td>python-network-data</td>\n",
       "      <td>Excellent\\n</td>\n",
       "    </tr>\n",
       "    <tr>\n",
       "      <th>52454</th>\n",
       "      <td>52454</td>\n",
       "      <td>learning-how-to-learn</td>\n",
       "      <td>I loved this course!  It helped me a lot in th...</td>\n",
       "    </tr>\n",
       "    <tr>\n",
       "      <th>22754</th>\n",
       "      <td>22754</td>\n",
       "      <td>foundations-data</td>\n",
       "      <td>Gâreat course and gives alots of insight eve...</td>\n",
       "    </tr>\n",
       "    <tr>\n",
       "      <th>56219</th>\n",
       "      <td>56219</td>\n",
       "      <td>learning-how-to-learn</td>\n",
       "      <td>I found this course to be a simple and effecti...</td>\n",
       "    </tr>\n",
       "  </tbody>\n",
       "</table>\n",
       "</div>"
      ],
      "text/plain": [
       "          id            course_name  \\\n",
       "24070  24070       foundations-data   \n",
       "38257  38257    python-network-data   \n",
       "52454  52454  learning-how-to-learn   \n",
       "22754  22754       foundations-data   \n",
       "56219  56219  learning-how-to-learn   \n",
       "\n",
       "                                                    text  \n",
       "24070  Very good contents and the instructor makes it...  \n",
       "38257                                        Excellent\\n  \n",
       "52454  I loved this course!  It helped me a lot in th...  \n",
       "22754  Gâreat course and gives alots of insight eve...  \n",
       "56219  I found this course to be a simple and effecti...  "
      ]
     },
     "execution_count": 4,
     "metadata": {},
     "output_type": "execute_result"
    }
   ],
   "source": [
    "databse_file = 'database.db'\n",
    "main = connect(databse_file)\n",
    "\n",
    "sql_statement_laod_data = '''\n",
    "SELECT \n",
    "    reviews.id, \n",
    "    reviews.course_name,\n",
    "    reviews.text\n",
    "\n",
    "FROM reviews\n",
    "'''\n",
    "\n",
    "df = pd.read_sql_query(sql_statement_laod_data, main)\n",
    "df.sample(5)"
   ]
  },
  {
   "cell_type": "code",
   "execution_count": 5,
   "metadata": {
    "collapsed": false,
    "pycharm": {
     "name": "#%%\n"
    }
   },
   "outputs": [
    {
     "data": {
      "text/plain": [
       "id             0.000000\n",
       "course_name    0.000000\n",
       "text           0.049845\n",
       "dtype: float64"
      ]
     },
     "execution_count": 5,
     "metadata": {},
     "output_type": "execute_result"
    }
   ],
   "source": [
    "df.isnull().sum() * 100 / len(df)"
   ]
  },
  {
   "cell_type": "code",
   "execution_count": 6,
   "metadata": {
    "collapsed": false,
    "pycharm": {
     "name": "#%%\n"
    }
   },
   "outputs": [],
   "source": [
    "df.dropna(inplace=True)"
   ]
  },
  {
   "cell_type": "code",
   "execution_count": 7,
   "metadata": {
    "collapsed": false,
    "pycharm": {
     "name": "#%%\n"
    }
   },
   "outputs": [
    {
     "data": {
      "text/plain": [
       "id             0.0\n",
       "course_name    0.0\n",
       "text           0.0\n",
       "dtype: float64"
      ]
     },
     "execution_count": 7,
     "metadata": {},
     "output_type": "execute_result"
    }
   ],
   "source": [
    "df.isnull().sum() * 100 / len(df)"
   ]
  },
  {
   "cell_type": "code",
   "execution_count": 8,
   "metadata": {
    "collapsed": false,
    "pycharm": {
     "name": "#%%\n"
    }
   },
   "outputs": [
    {
     "name": "stderr",
     "output_type": "stream",
     "text": [
      "Warning : `load_model` does not return WordVectorModel or SupervisedModel any more, but a `FastText` object which is very similar.\n"
     ]
    },
    {
     "data": {
      "text/plain": [
       "<spacy_fastlang.LanguageDetector at 0x7f8f3a183d60>"
      ]
     },
     "execution_count": 8,
     "metadata": {},
     "output_type": "execute_result"
    }
   ],
   "source": [
    "import re\n",
    "def text_decoder(string):\n",
    "    '''\n",
    "        The following two lines of code are from Wim Feijen on StackOverFlow\n",
    "\n",
    "        Wim Feijen\n",
    "        March 26, 2021\n",
    "        StackOverFlow: Python encoding/decoding problems\n",
    "        https://stackoverflow.com/questions/27996448/python-encoding-decoding-problems\n",
    "    '''\n",
    "    bytes_string = bytes(string, encoding=\"raw_unicode_escape\")\n",
    "    text = bytes_string.decode(\"utf-8\", \"strict\")\n",
    "    return text\n",
    "\n",
    "def lang_detect(clean_string):\n",
    "    clean_string = nlp(clean_string)\n",
    "    return clean_string._.language\n",
    "\n",
    "def tokens_2_keep(text_column):\n",
    "    tokens = text_column.split()\n",
    "    return [token for token in tokens if re.match('^[a-z0-9]+$', token)]\n",
    "\n",
    "nlp = spacy.load('en_core_web_md', exclude=['tagger', 'parser', 'ner', 'attribute_ruler', 'lemmatizer'])\n",
    "nlp.add_pipe(\"language_detector\")"
   ]
  },
  {
   "cell_type": "code",
   "execution_count": 9,
   "metadata": {
    "collapsed": false,
    "pycharm": {
     "name": "#%%\n"
    }
   },
   "outputs": [],
   "source": [
    "# filter out any non-english reviews\n",
    "df['language'] = df['text'].apply(lang_detect)\n",
    "df = df[df['language'] == 'en']\n",
    "df['cleaned_text'] = df['text'].apply(text_decoder)\n",
    "df.sample(2)"
   ]
  },
  {
   "cell_type": "code",
   "execution_count": 19,
   "metadata": {
    "collapsed": false,
    "pycharm": {
     "name": "#%%\n"
    }
   },
   "outputs": [],
   "source": [
    "def token_counter(text):\n",
    "    return len(text.split())\n",
    "\n",
    "df['token_count'] = df['cleaned_text'].apply(token_counter)\n",
    "# grab docs > 4 tokens\n",
    "df = df.loc[df['token_count'] > 4,:]\n",
    "df = df[['course_name', 'cleaned_text', 'token_count']]\n",
    "df.sample(2)"
   ]
  },
  {
   "cell_type": "markdown",
   "metadata": {
    "collapsed": false,
    "pycharm": {
     "name": "#%% md\n"
    }
   },
   "source": [
    "It looks like we are fine from overfitting to the single word documents/reviews, but to stay safe we will create two different models.  One with single word docs and one without single word docs."
   ]
  },
  {
   "cell_type": "markdown",
   "metadata": {
    "collapsed": false,
    "pycharm": {
     "name": "#%% md\n"
    }
   },
   "source": [
    "# Model"
   ]
  },
  {
   "cell_type": "code",
   "execution_count": 22,
   "metadata": {
    "collapsed": false,
    "pycharm": {
     "name": "#%%\n"
    }
   },
   "outputs": [
    {
     "name": "stderr",
     "output_type": "stream",
     "text": [
      "/opt/anaconda3/envs/dsOne/lib/python3.9/site-packages/past/builtins/misc.py:45: DeprecationWarning: the imp module is deprecated in favour of importlib; see the module's documentation for alternative uses\n",
      "  from imp import reload\n",
      "/opt/anaconda3/envs/dsOne/lib/python3.9/site-packages/past/builtins/misc.py:45: DeprecationWarning: the imp module is deprecated in favour of importlib; see the module's documentation for alternative uses\n",
      "  from imp import reload\n",
      "/opt/anaconda3/envs/dsOne/lib/python3.9/site-packages/past/builtins/misc.py:45: DeprecationWarning: the imp module is deprecated in favour of importlib; see the module's documentation for alternative uses\n",
      "  from imp import reload\n",
      "/opt/anaconda3/envs/dsOne/lib/python3.9/site-packages/past/builtins/misc.py:45: DeprecationWarning: the imp module is deprecated in favour of importlib; see the module's documentation for alternative uses\n",
      "  from imp import reload\n",
      "/opt/anaconda3/envs/dsOne/lib/python3.9/site-packages/past/builtins/misc.py:45: DeprecationWarning: the imp module is deprecated in favour of importlib; see the module's documentation for alternative uses\n",
      "  from imp import reload\n",
      "/opt/anaconda3/envs/dsOne/lib/python3.9/site-packages/past/builtins/misc.py:45: DeprecationWarning: the imp module is deprecated in favour of importlib; see the module's documentation for alternative uses\n",
      "  from imp import reload\n",
      "/opt/anaconda3/envs/dsOne/lib/python3.9/site-packages/past/builtins/misc.py:45: DeprecationWarning: the imp module is deprecated in favour of importlib; see the module's documentation for alternative uses\n",
      "  from imp import reload\n",
      "/opt/anaconda3/envs/dsOne/lib/python3.9/site-packages/past/builtins/misc.py:45: DeprecationWarning: the imp module is deprecated in favour of importlib; see the module's documentation for alternative uses\n",
      "  from imp import reload\n"
     ]
    }
   ],
   "source": [
    "count_text_vectorizer = CountVectorizer(stop_words=stopwords, min_df=0.1, max_df=0.7)\n",
    "count_text_vectors = count_text_vectorizer.fit_transform(df[\"cleaned_text\"])\n",
    "\n",
    "lda_para_model = LatentDirichletAllocation(n_components=6 , random_state=1)\n",
    "lda_para_model.fit(count_text_vectors)\n",
    "\n",
    "lda_display = pyLDAvis.sklearn.prepare(lda_para_model, count_text_vectors, count_text_vectorizer, sort_topics=False);"
   ]
  },
  {
   "cell_type": "code",
   "execution_count": 23,
   "metadata": {},
   "outputs": [
    {
     "data": {
      "text/html": [
       "\n",
       "<link rel=\"stylesheet\" type=\"text/css\" href=\"https://cdn.jsdelivr.net/gh/bmabey/pyLDAvis@3.3.1/pyLDAvis/js/ldavis.v1.0.0.css\">\n",
       "\n",
       "\n",
       "<div id=\"ldavis_el73511402528679550567766379820\"></div>\n",
       "<script type=\"text/javascript\">\n",
       "\n",
       "var ldavis_el73511402528679550567766379820_data = {\"mdsDat\": {\"x\": [0.01926874944177336, 0.34567154920476933, -0.1349240756729822, 0.05871820269575455, -0.19515167898635458, -0.09358274668296092], \"y\": [-0.011783120262689045, 0.030578298659945668, 0.17793835854669093, -0.16639534901883274, -0.2027831846278932, 0.1724449967027783], \"topics\": [1, 2, 3, 4, 5, 6], \"cluster\": [1, 1, 1, 1, 1, 1], \"Freq\": [26.22053934058166, 19.272720555130494, 14.952480392515946, 12.549522010513153, 17.255362415717116, 9.749375285541634]}, \"tinfo\": {\"Term\": [\"great\", \"python\", \"learning\", \"lot\", \"good\", \"easy\", \"learn\", \"course\", \"thank\", \"course\", \"thank\", \"learn\", \"lot\", \"easy\", \"good\", \"python\", \"learning\", \"great\", \"learning\", \"learn\", \"thank\", \"course\", \"easy\", \"lot\", \"good\", \"python\", \"great\", \"great\", \"course\", \"thank\", \"easy\", \"learn\", \"lot\", \"good\", \"python\", \"learning\", \"python\", \"learn\", \"course\", \"easy\", \"thank\", \"lot\", \"good\", \"learning\", \"great\", \"good\", \"easy\", \"course\", \"learn\", \"thank\", \"lot\", \"python\", \"learning\", \"great\", \"lot\", \"course\", \"learning\", \"great\", \"easy\", \"thank\", \"good\", \"python\", \"learn\"], \"Freq\": [11449.0, 8297.0, 11101.0, 6851.0, 8265.0, 5099.0, 9752.0, 44315.0, 6512.0, 23790.133806604917, 3111.252599106426, 2313.370477576048, 58.698879356806536, 0.14533695799962118, 0.14530135314552703, 0.14521603755345738, 0.14645771421504772, 0.14527747868971852, 10756.550004313776, 6046.193284807331, 2943.807062718146, 1769.494498750878, 0.5077844551557104, 0.167220064736821, 0.16730209834234283, 0.16708483237755398, 0.16734894024426103, 11152.548154328197, 5080.65411238428, 456.8442323453587, 1.5957714703560508, 1.5097185917948153, 0.17338925020493276, 0.17350143808135596, 0.17352596189053082, 0.17385325818945147, 8297.08859186899, 1389.4444877480496, 4209.722901147041, 113.7005658893314, 0.28511439289321167, 0.1992866358869194, 0.19845512033992546, 0.20048785485821566, 0.19945320012688778, 8264.164905761807, 4983.491636773506, 6014.269275933218, 2.0732335957306645, 0.2708637251661153, 0.16039104791589479, 0.16046497592929615, 0.17068132167541064, 0.16046951658083036, 6791.800523734569, 3451.376610302623, 343.8270176870805, 296.70787560538207, 0.21484641204560778, 0.21547540533965648, 0.21481579756655586, 0.21462862647646472, 0.21573772472992597], \"Total\": [11449.0, 8297.0, 11101.0, 6851.0, 8265.0, 5099.0, 9752.0, 44315.0, 6512.0, 44315.65120512296, 6512.67534769333, 9752.806940043683, 6851.1996900901195, 5099.655941958395, 8265.064281569283, 8297.949512303217, 11101.068502149794, 11449.92857906922, 11101.068502149794, 9752.806940043683, 6512.67534769333, 44315.65120512296, 5099.655941958395, 6851.1996900901195, 8265.064281569283, 8297.949512303217, 11449.92857906922, 11449.92857906922, 44315.65120512296, 6512.67534769333, 5099.655941958395, 9752.806940043683, 6851.1996900901195, 8265.064281569283, 8297.949512303217, 11101.068502149794, 8297.949512303217, 9752.806940043683, 44315.65120512296, 5099.655941958395, 6512.67534769333, 6851.1996900901195, 8265.064281569283, 11101.068502149794, 11449.92857906922, 8265.064281569283, 5099.655941958395, 44315.65120512296, 9752.806940043683, 6512.67534769333, 6851.1996900901195, 8297.949512303217, 11101.068502149794, 11449.92857906922, 6851.1996900901195, 44315.65120512296, 11101.068502149794, 11449.92857906922, 5099.655941958395, 6512.67534769333, 8265.064281569283, 8297.949512303217, 9752.806940043683], \"Category\": [\"Default\", \"Default\", \"Default\", \"Default\", \"Default\", \"Default\", \"Default\", \"Default\", \"Default\", \"Topic1\", \"Topic1\", \"Topic1\", \"Topic1\", \"Topic1\", \"Topic1\", \"Topic1\", \"Topic1\", \"Topic1\", \"Topic2\", \"Topic2\", \"Topic2\", \"Topic2\", \"Topic2\", \"Topic2\", \"Topic2\", \"Topic2\", \"Topic2\", \"Topic3\", \"Topic3\", \"Topic3\", \"Topic3\", \"Topic3\", \"Topic3\", \"Topic3\", \"Topic3\", \"Topic3\", \"Topic4\", \"Topic4\", \"Topic4\", \"Topic4\", \"Topic4\", \"Topic4\", \"Topic4\", \"Topic4\", \"Topic4\", \"Topic5\", \"Topic5\", \"Topic5\", \"Topic5\", \"Topic5\", \"Topic5\", \"Topic5\", \"Topic5\", \"Topic5\", \"Topic6\", \"Topic6\", \"Topic6\", \"Topic6\", \"Topic6\", \"Topic6\", \"Topic6\", \"Topic6\", \"Topic6\"], \"logprob\": [9.0, 8.0, 7.0, 6.0, 5.0, 4.0, 3.0, 2.0, 1.0, -0.2074, -2.2417, -2.538, -6.212, -12.2132, -12.2134, -12.214, -12.2055, -12.2136, -0.6933, -1.2694, -1.9891, -2.4982, -10.6543, -11.7651, -11.7646, -11.7659, -11.7643, -0.4034, -1.1896, -3.5985, -9.2554, -9.3109, -11.475, -11.4744, -11.4742, -11.4723, -0.5239, -2.3109, -1.2024, -4.814, -10.8025, -11.1606, -11.1648, -11.1546, -11.1598, -0.8464, -1.3522, -1.1642, -9.1369, -11.1722, -11.6962, -11.6957, -11.634, -11.6957, -0.4717, -1.1486, -3.455, -3.6024, -10.833, -10.83, -10.8331, -10.834, -10.8288], \"loglift\": [9.0, 8.0, 7.0, 6.0, 5.0, 4.0, 3.0, 2.0, 1.0, 0.7166, 0.5999, -0.1002, -3.4211, -9.127, -9.6101, -9.6147, -9.8972, -9.9362, 1.615, 1.1684, 0.8524, -1.5742, -7.5681, -8.9741, -9.1613, -9.1665, -9.4869, 1.874, -0.2656, -0.7569, -6.1693, -6.8731, -8.6841, -8.8711, -8.8749, -9.164, 2.0754, 0.1268, -0.2785, -1.7279, -7.9609, -8.3697, -8.5615, -8.8463, -8.8824, 1.7569, 1.734, -0.2402, -6.6992, -8.3306, -8.9053, -9.0964, -9.3257, -9.4183, 2.3193, -0.2246, -1.1467, -1.325, -7.7468, -7.9884, -8.2298, -8.2346, -8.391]}, \"token.table\": {\"Topic\": [1, 2, 3, 4, 5, 6, 2, 3, 4, 5, 5, 3, 6, 1, 2, 3, 4, 5, 2, 6, 1, 6, 4, 1, 2, 3], \"Freq\": [0.5368306535739192, 0.03991817680421451, 0.11465475203064665, 0.09500029640799496, 0.13570826189968685, 0.07787316458527092, 0.00019609166017893655, 0.0003921833203578731, 0.022354449260398764, 0.9771247426716407, 0.9998712313016541, 0.9740672112477616, 0.025939026427022793, 0.23716249221576818, 0.6199240933577754, 0.00020506916750174508, 0.14242053682996195, 0.00020506916750174508, 0.9690058211889097, 0.030988008040251456, 0.008611630468944035, 0.9913592227977607, 0.9998855726584249, 0.4776838755062248, 0.4520415716780218, 0.07017085538616032], \"Term\": [\"course\", \"course\", \"course\", \"course\", \"course\", \"course\", \"easy\", \"easy\", \"easy\", \"easy\", \"good\", \"great\", \"great\", \"learn\", \"learn\", \"learn\", \"learn\", \"learn\", \"learning\", \"learning\", \"lot\", \"lot\", \"python\", \"thank\", \"thank\", \"thank\"]}, \"R\": 9, \"lambda.step\": 0.01, \"plot.opts\": {\"xlab\": \"PC1\", \"ylab\": \"PC2\"}, \"topic.order\": [1, 2, 3, 4, 5, 6]};\n",
       "\n",
       "function LDAvis_load_lib(url, callback){\n",
       "  var s = document.createElement('script');\n",
       "  s.src = url;\n",
       "  s.async = true;\n",
       "  s.onreadystatechange = s.onload = callback;\n",
       "  s.onerror = function(){console.warn(\"failed to load library \" + url);};\n",
       "  document.getElementsByTagName(\"head\")[0].appendChild(s);\n",
       "}\n",
       "\n",
       "if(typeof(LDAvis) !== \"undefined\"){\n",
       "   // already loaded: just create the visualization\n",
       "   !function(LDAvis){\n",
       "       new LDAvis(\"#\" + \"ldavis_el73511402528679550567766379820\", ldavis_el73511402528679550567766379820_data);\n",
       "   }(LDAvis);\n",
       "}else if(typeof define === \"function\" && define.amd){\n",
       "   // require.js is available: use it to load d3/LDAvis\n",
       "   require.config({paths: {d3: \"https://d3js.org/d3.v5\"}});\n",
       "   require([\"d3\"], function(d3){\n",
       "      window.d3 = d3;\n",
       "      LDAvis_load_lib(\"https://cdn.jsdelivr.net/gh/bmabey/pyLDAvis@3.3.1/pyLDAvis/js/ldavis.v3.0.0.js\", function(){\n",
       "        new LDAvis(\"#\" + \"ldavis_el73511402528679550567766379820\", ldavis_el73511402528679550567766379820_data);\n",
       "      });\n",
       "    });\n",
       "}else{\n",
       "    // require.js not available: dynamically load d3 & LDAvis\n",
       "    LDAvis_load_lib(\"https://d3js.org/d3.v5.js\", function(){\n",
       "         LDAvis_load_lib(\"https://cdn.jsdelivr.net/gh/bmabey/pyLDAvis@3.3.1/pyLDAvis/js/ldavis.v3.0.0.js\", function(){\n",
       "                 new LDAvis(\"#\" + \"ldavis_el73511402528679550567766379820\", ldavis_el73511402528679550567766379820_data);\n",
       "            })\n",
       "         });\n",
       "}\n",
       "</script>"
      ],
      "text/plain": [
       "<IPython.core.display.HTML object>"
      ]
     },
     "execution_count": 23,
     "metadata": {},
     "output_type": "execute_result"
    }
   ],
   "source": [
    "pyLDAvis.display(lda_display)\n"
   ]
  },
  {
   "cell_type": "code",
   "execution_count": null,
   "metadata": {},
   "outputs": [],
   "source": []
  }
 ],
 "metadata": {
  "kernelspec": {
   "display_name": "Python 3.9.12 ('dsOne')",
   "language": "python",
   "name": "python3"
  },
  "language_info": {
   "codemirror_mode": {
    "name": "ipython",
    "version": 3
   },
   "file_extension": ".py",
   "mimetype": "text/x-python",
   "name": "python",
   "nbconvert_exporter": "python",
   "pygments_lexer": "ipython3",
   "version": "3.9.12"
  },
  "orig_nbformat": 4,
  "vscode": {
   "interpreter": {
    "hash": "ecdf9061e3d092d85dd204129c8cdf4bfa6c912f3431741b18457c68aad5f080"
   }
  }
 },
 "nbformat": 4,
 "nbformat_minor": 2
}

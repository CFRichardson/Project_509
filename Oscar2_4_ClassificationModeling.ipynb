{
 "cells": [
  {
   "cell_type": "markdown",
   "metadata": {},
   "source": [
    "### Loading Required Libraries"
   ]
  },
  {
   "cell_type": "code",
   "execution_count": 1,
   "metadata": {},
   "outputs": [],
   "source": [
    "# import the necessary libraries\n",
    "\n",
    "from modules import PreProcessing, functions\n",
    "from sqlite3 import connect \n",
    "import pandas as pd\n",
    "import numpy as np\n",
    "import matplotlib.pyplot as plt\n",
    "from sklearn.feature_extraction.text import TfidfVectorizer, CountVectorizer\n",
    "from sklearn.metrics import accuracy_score\n",
    "from sklearn.metrics import confusion_matrix, classification_report\n",
    "from itertools import chain\n",
    "from collections import Counter\n",
    "import nltk\n",
    "import re\n",
    "import warnings\n",
    "warnings.filterwarnings(\"ignore\")\n",
    "\n",
    "from sklearn import svm\n",
    "\n",
    "# to ensure all changes are reflected \n",
    "# in-case jupyter notebook was already oppened\n",
    "\n",
    "from importlib import reload\n",
    "reload(PreProcessing)\n",
    "reload(functions)\n",
    "\n",
    "project_dir = 'C:/Users/OscarGil/Desktop/Project_509'\n",
    "#project_dir = '/Users/nima/repository/Project_509'"
   ]
  },
  {
   "cell_type": "markdown",
   "metadata": {},
   "source": [
    "### Section 1 - Create a Suport vector machine "
   ]
  },
  {
   "cell_type": "code",
   "execution_count": 2,
   "metadata": {},
   "outputs": [
    {
     "data": {
      "text/html": [
       "<div>\n",
       "<style scoped>\n",
       "    .dataframe tbody tr th:only-of-type {\n",
       "        vertical-align: middle;\n",
       "    }\n",
       "\n",
       "    .dataframe tbody tr th {\n",
       "        vertical-align: top;\n",
       "    }\n",
       "\n",
       "    .dataframe thead th {\n",
       "        text-align: right;\n",
       "    }\n",
       "</style>\n",
       "<table border=\"1\" class=\"dataframe\">\n",
       "  <thead>\n",
       "    <tr style=\"text-align: right;\">\n",
       "      <th></th>\n",
       "      <th>index</th>\n",
       "      <th>id</th>\n",
       "      <th>course_name</th>\n",
       "      <th>tokens</th>\n",
       "      <th>star</th>\n",
       "      <th>raw_tokens</th>\n",
       "    </tr>\n",
       "  </thead>\n",
       "  <tbody>\n",
       "    <tr>\n",
       "      <th>59532</th>\n",
       "      <td>59532</td>\n",
       "      <td>59532</td>\n",
       "      <td>learning-how-to-learn</td>\n",
       "      <td>[5, star, becaus, access, chang, attitud, pers...</td>\n",
       "      <td>5</td>\n",
       "      <td>5 star becaus access chang attitud person real...</td>\n",
       "    </tr>\n",
       "    <tr>\n",
       "      <th>7093</th>\n",
       "      <td>7093</td>\n",
       "      <td>7093</td>\n",
       "      <td>ai-for-everyone</td>\n",
       "      <td>[awesom, teach]</td>\n",
       "      <td>5</td>\n",
       "      <td>awesom teach</td>\n",
       "    </tr>\n",
       "    <tr>\n",
       "      <th>41413</th>\n",
       "      <td>41413</td>\n",
       "      <td>41413</td>\n",
       "      <td>python</td>\n",
       "      <td>[read, thi, cours, think, nice, cours, initi, ...</td>\n",
       "      <td>5</td>\n",
       "      <td>read thi cours think nice cours initi python s...</td>\n",
       "    </tr>\n",
       "    <tr>\n",
       "      <th>11600</th>\n",
       "      <td>11600</td>\n",
       "      <td>11600</td>\n",
       "      <td>excel-essentials</td>\n",
       "      <td>[thi, cours, great, beginn, veri, easi, follow...</td>\n",
       "      <td>5</td>\n",
       "      <td>thi cours great beginn veri easi follow pack a...</td>\n",
       "    </tr>\n",
       "    <tr>\n",
       "      <th>8228</th>\n",
       "      <td>8228</td>\n",
       "      <td>8228</td>\n",
       "      <td>ai-for-everyone</td>\n",
       "      <td>[good]</td>\n",
       "      <td>5</td>\n",
       "      <td>good</td>\n",
       "    </tr>\n",
       "  </tbody>\n",
       "</table>\n",
       "</div>"
      ],
      "text/plain": [
       "       index     id            course_name  \\\n",
       "59532  59532  59532  learning-how-to-learn   \n",
       "7093    7093   7093        ai-for-everyone   \n",
       "41413  41413  41413                 python   \n",
       "11600  11600  11600       excel-essentials   \n",
       "8228    8228   8228        ai-for-everyone   \n",
       "\n",
       "                                                  tokens star  \\\n",
       "59532  [5, star, becaus, access, chang, attitud, pers...    5   \n",
       "7093                                     [awesom, teach]    5   \n",
       "41413  [read, thi, cours, think, nice, cours, initi, ...    5   \n",
       "11600  [thi, cours, great, beginn, veri, easi, follow...    5   \n",
       "8228                                              [good]    5   \n",
       "\n",
       "                                              raw_tokens  \n",
       "59532  5 star becaus access chang attitud person real...  \n",
       "7093                                        awesom teach  \n",
       "41413  read thi cours think nice cours initi python s...  \n",
       "11600  thi cours great beginn veri easi follow pack a...  \n",
       "8228                                                good  "
      ]
     },
     "execution_count": 2,
     "metadata": {},
     "output_type": "execute_result"
    }
   ],
   "source": [
    "databse_file = 'database.db'\n",
    "main = connect(databse_file)\n",
    "\n",
    "sql_statement_laod_data = '''\n",
    "SELECT a.*\n",
    "    ,  b.star\n",
    "FROM review_tokens as a\n",
    "join reviews as b\n",
    "    on a.id = b.id\n",
    "'''\n",
    "\n",
    "df = pd.read_sql_query(sql_statement_laod_data, main)\n",
    "\n",
    "# Convert 'star' values to strings\n",
    "df['star'] = df.star.astype(int).astype(str)\n",
    "\n",
    "# Keep original tokens for SVM\n",
    "df['raw_tokens'] = df['tokens']\n",
    "\n",
    "# create a new column that holds tokens of clean_sentence\n",
    "df['tokens'] = df['tokens'].apply(lambda x: x.split(' '))\n",
    "df.sample(5)"
   ]
  },
  {
   "cell_type": "code",
   "execution_count": 3,
   "metadata": {},
   "outputs": [],
   "source": [
    "# set seed for reproducibility\n",
    "np.random.seed(12)\n",
    "\n",
    "# get index of 20% of random data in the datafram for testing\n",
    "test_index = np.random.choice(df.index, size=int(len(df)*0.2), replace=False)\n",
    "\n",
    "# set up the train and test\n",
    "train = df[~df.index.isin(test_index)]\n",
    "test = df[df.index.isin(test_index)]"
   ]
  },
  {
   "cell_type": "code",
   "execution_count": 4,
   "metadata": {},
   "outputs": [
    {
     "data": {
      "text/html": [
       "<div>\n",
       "<style scoped>\n",
       "    .dataframe tbody tr th:only-of-type {\n",
       "        vertical-align: middle;\n",
       "    }\n",
       "\n",
       "    .dataframe tbody tr th {\n",
       "        vertical-align: top;\n",
       "    }\n",
       "\n",
       "    .dataframe thead th {\n",
       "        text-align: right;\n",
       "    }\n",
       "</style>\n",
       "<table border=\"1\" class=\"dataframe\">\n",
       "  <thead>\n",
       "    <tr style=\"text-align: right;\">\n",
       "      <th></th>\n",
       "      <th>course_name</th>\n",
       "      <th>train_count</th>\n",
       "    </tr>\n",
       "  </thead>\n",
       "  <tbody>\n",
       "    <tr>\n",
       "      <th>0</th>\n",
       "      <td>ai-for-everyone</td>\n",
       "      <td>7753</td>\n",
       "    </tr>\n",
       "    <tr>\n",
       "      <th>1</th>\n",
       "      <td>excel-essentials</td>\n",
       "      <td>7914</td>\n",
       "    </tr>\n",
       "    <tr>\n",
       "      <th>2</th>\n",
       "      <td>foundations-data</td>\n",
       "      <td>7940</td>\n",
       "    </tr>\n",
       "    <tr>\n",
       "      <th>3</th>\n",
       "      <td>introduction-cybersecurity-cyber-attacks</td>\n",
       "      <td>2479</td>\n",
       "    </tr>\n",
       "    <tr>\n",
       "      <th>4</th>\n",
       "      <td>learning-how-to-learn</td>\n",
       "      <td>7992</td>\n",
       "    </tr>\n",
       "    <tr>\n",
       "      <th>5</th>\n",
       "      <td>python</td>\n",
       "      <td>7934</td>\n",
       "    </tr>\n",
       "    <tr>\n",
       "      <th>6</th>\n",
       "      <td>python-network-data</td>\n",
       "      <td>6137</td>\n",
       "    </tr>\n",
       "  </tbody>\n",
       "</table>\n",
       "</div>"
      ],
      "text/plain": [
       "                                course_name  train_count\n",
       "0                           ai-for-everyone         7753\n",
       "1                          excel-essentials         7914\n",
       "2                          foundations-data         7940\n",
       "3  introduction-cybersecurity-cyber-attacks         2479\n",
       "4                     learning-how-to-learn         7992\n",
       "5                                    python         7934\n",
       "6                       python-network-data         6137"
      ]
     },
     "execution_count": 4,
     "metadata": {},
     "output_type": "execute_result"
    }
   ],
   "source": [
    "# get count of rows for each course_name in train set\n",
    "train_count = train.groupby('course_name').count()['tokens'].reset_index().rename(columns={'tokens': 'train_count'})\n",
    "train_count"
   ]
  },
  {
   "cell_type": "code",
   "execution_count": 5,
   "metadata": {},
   "outputs": [
    {
     "data": {
      "text/html": [
       "<div>\n",
       "<style scoped>\n",
       "    .dataframe tbody tr th:only-of-type {\n",
       "        vertical-align: middle;\n",
       "    }\n",
       "\n",
       "    .dataframe tbody tr th {\n",
       "        vertical-align: top;\n",
       "    }\n",
       "\n",
       "    .dataframe thead th {\n",
       "        text-align: right;\n",
       "    }\n",
       "</style>\n",
       "<table border=\"1\" class=\"dataframe\">\n",
       "  <thead>\n",
       "    <tr style=\"text-align: right;\">\n",
       "      <th></th>\n",
       "      <th>course_name</th>\n",
       "      <th>train_count</th>\n",
       "      <th>diff</th>\n",
       "    </tr>\n",
       "  </thead>\n",
       "  <tbody>\n",
       "    <tr>\n",
       "      <th>3</th>\n",
       "      <td>introduction-cybersecurity-cyber-attacks</td>\n",
       "      <td>2479</td>\n",
       "      <td>5513</td>\n",
       "    </tr>\n",
       "    <tr>\n",
       "      <th>6</th>\n",
       "      <td>python-network-data</td>\n",
       "      <td>6137</td>\n",
       "      <td>1855</td>\n",
       "    </tr>\n",
       "    <tr>\n",
       "      <th>0</th>\n",
       "      <td>ai-for-everyone</td>\n",
       "      <td>7753</td>\n",
       "      <td>239</td>\n",
       "    </tr>\n",
       "    <tr>\n",
       "      <th>1</th>\n",
       "      <td>excel-essentials</td>\n",
       "      <td>7914</td>\n",
       "      <td>78</td>\n",
       "    </tr>\n",
       "    <tr>\n",
       "      <th>5</th>\n",
       "      <td>python</td>\n",
       "      <td>7934</td>\n",
       "      <td>58</td>\n",
       "    </tr>\n",
       "    <tr>\n",
       "      <th>2</th>\n",
       "      <td>foundations-data</td>\n",
       "      <td>7940</td>\n",
       "      <td>52</td>\n",
       "    </tr>\n",
       "    <tr>\n",
       "      <th>4</th>\n",
       "      <td>learning-how-to-learn</td>\n",
       "      <td>7992</td>\n",
       "      <td>0</td>\n",
       "    </tr>\n",
       "  </tbody>\n",
       "</table>\n",
       "</div>"
      ],
      "text/plain": [
       "                                course_name  train_count  diff\n",
       "3  introduction-cybersecurity-cyber-attacks         2479  5513\n",
       "6                       python-network-data         6137  1855\n",
       "0                           ai-for-everyone         7753   239\n",
       "1                          excel-essentials         7914    78\n",
       "5                                    python         7934    58\n",
       "2                          foundations-data         7940    52\n",
       "4                     learning-how-to-learn         7992     0"
      ]
     },
     "execution_count": 5,
     "metadata": {},
     "output_type": "execute_result"
    }
   ],
   "source": [
    "# Since there are not a lot of rows with\n",
    "# introduction-cybersecurity-cyber-attacks\n",
    "# to train the data with, some random records\n",
    "# will be added to over potential bias toward \n",
    "# the courses with higher records\n",
    "\n",
    "# subtract train_count from largest train_count\n",
    "train_count['diff'] = \\\n",
    "    train_count['train_count'].max() - train_count['train_count']\n",
    "\n",
    "# sort train_count based on diff\n",
    "train_count = train_count.sort_values('diff', ascending=False)\n",
    "train_count"
   ]
  },
  {
   "cell_type": "code",
   "execution_count": 6,
   "metadata": {},
   "outputs": [
    {
     "data": {
      "text/html": [
       "<div>\n",
       "<style scoped>\n",
       "    .dataframe tbody tr th:only-of-type {\n",
       "        vertical-align: middle;\n",
       "    }\n",
       "\n",
       "    .dataframe tbody tr th {\n",
       "        vertical-align: top;\n",
       "    }\n",
       "\n",
       "    .dataframe thead th {\n",
       "        text-align: right;\n",
       "    }\n",
       "</style>\n",
       "<table border=\"1\" class=\"dataframe\">\n",
       "  <thead>\n",
       "    <tr style=\"text-align: right;\">\n",
       "      <th></th>\n",
       "      <th>course_name</th>\n",
       "      <th>train_count</th>\n",
       "    </tr>\n",
       "  </thead>\n",
       "  <tbody>\n",
       "    <tr>\n",
       "      <th>0</th>\n",
       "      <td>ai-for-everyone</td>\n",
       "      <td>7992</td>\n",
       "    </tr>\n",
       "    <tr>\n",
       "      <th>1</th>\n",
       "      <td>excel-essentials</td>\n",
       "      <td>7992</td>\n",
       "    </tr>\n",
       "    <tr>\n",
       "      <th>2</th>\n",
       "      <td>foundations-data</td>\n",
       "      <td>7992</td>\n",
       "    </tr>\n",
       "    <tr>\n",
       "      <th>3</th>\n",
       "      <td>introduction-cybersecurity-cyber-attacks</td>\n",
       "      <td>7992</td>\n",
       "    </tr>\n",
       "    <tr>\n",
       "      <th>4</th>\n",
       "      <td>learning-how-to-learn</td>\n",
       "      <td>7992</td>\n",
       "    </tr>\n",
       "    <tr>\n",
       "      <th>5</th>\n",
       "      <td>python</td>\n",
       "      <td>7992</td>\n",
       "    </tr>\n",
       "    <tr>\n",
       "      <th>6</th>\n",
       "      <td>python-network-data</td>\n",
       "      <td>7992</td>\n",
       "    </tr>\n",
       "  </tbody>\n",
       "</table>\n",
       "</div>"
      ],
      "text/plain": [
       "                                course_name  train_count\n",
       "0                           ai-for-everyone         7992\n",
       "1                          excel-essentials         7992\n",
       "2                          foundations-data         7992\n",
       "3  introduction-cybersecurity-cyber-attacks         7992\n",
       "4                     learning-how-to-learn         7992\n",
       "5                                    python         7992\n",
       "6                       python-network-data         7992"
      ]
     },
     "execution_count": 6,
     "metadata": {},
     "output_type": "execute_result"
    }
   ],
   "source": [
    "# resample records based on diff and create df_balanced\n",
    "df_resample = pd.DataFrame()\n",
    "for course_name in train_count['course_name']:\n",
    "    resample_count = train_count[train_count['course_name'] == course_name]['diff'].values[0]\n",
    "    course_resample = train[train['course_name'] == course_name].sample(resample_count, replace=True)\n",
    "    df_resample = pd.concat([df_resample, course_resample])\n",
    "\n",
    "train_balanced = pd.concat([train, df_resample], ignore_index = True)\n",
    "\n",
    "train_balanced_count = \\\n",
    "    train_balanced.groupby('course_name').count()['tokens']\\\n",
    "        .reset_index().rename(columns={'tokens': 'train_count'})\n",
    "\n",
    "train_balanced_count"
   ]
  },
  {
   "cell_type": "code",
   "execution_count": 7,
   "metadata": {},
   "outputs": [
    {
     "data": {
      "image/png": "[encoded data removed]",
      "text/plain": [
       "<Figure size 720x360 with 1 Axes>"
      ]
     },
     "metadata": {
      "needs_background": "light"
     },
     "output_type": "display_data"
    }
   ],
   "source": [
    "words_to_train_with = Counter(chain.from_iterable(train_balanced['tokens']))\n",
    "\n",
    "# plot the top 20 most frequently used in words_to_train_with\n",
    "plt.figure(figsize=(10,5))\n",
    "plt.title('Top 20 most frequently used words')\n",
    "plt.bar(*zip(*words_to_train_with.most_common(20)))\n",
    "plt.xticks(rotation=45)\n",
    "plt.show()"
   ]
  },
  {
   "cell_type": "code",
   "execution_count": 8,
   "metadata": {},
   "outputs": [
    {
     "data": {
      "text/plain": [
       "({'highli': True,\n",
       "  'recommend': True,\n",
       "  'anyon': True,\n",
       "  'want': True,\n",
       "  'start': True,\n",
       "  'learn': True,\n",
       "  'ai': True,\n",
       "  'explain': True,\n",
       "  'coher': True,\n",
       "  'intuit': True,\n",
       "  'way': True,\n",
       "  'help': True,\n",
       "  'lay': True,\n",
       "  'foundat': True,\n",
       "  'lifelong': True,\n",
       "  'experi': True,\n",
       "  'new': True,\n",
       "  'career': True},\n",
       " 'ai-for-everyone')"
      ]
     },
     "execution_count": 8,
     "metadata": {},
     "output_type": "execute_result"
    }
   ],
   "source": [
    "# make a tuple of tokens_keep and classification\n",
    "\n",
    "def prepare_train_data(row):\n",
    "    x = {token:True for token in row['tokens']}\n",
    "    y = row['course_name']\n",
    "    return (x, y)\n",
    "\n",
    "train_data = train_balanced.apply(prepare_train_data, axis=1)\n",
    "train_data[0]"
   ]
  },
  {
   "cell_type": "code",
   "execution_count": 9,
   "metadata": {},
   "outputs": [],
   "source": [
    "model_nb = nltk.NaiveBayesClassifier.train(train_data)"
   ]
  },
  {
   "cell_type": "code",
   "execution_count": 10,
   "metadata": {},
   "outputs": [
    {
     "name": "stdout",
     "output_type": "stream",
     "text": [
      "Most Informative Features\n",
      "                  python = True           python : excel- =   2447.7 : 1.0\n",
      "                      ai = True           ai-for : founda =   2126.3 : 1.0\n",
      "                      dr = True           python : founda =    844.3 : 1.0\n",
      "              cybersecur = True           introd : python =    633.0 : 1.0\n",
      "                 barbara = True           learni : ai-for =    553.0 : 1.0\n",
      "                   cyber = True           introd : python =    534.3 : 1.0\n",
      "                 analyst = True           founda : python =    415.0 : 1.0\n",
      "                   chuck = True           python : learni =    409.8 : 1.0\n",
      "                   audio = True           introd : ai-for =    395.0 : 1.0\n",
      "                  analyt = True           founda : learni =    390.2 : 1.0\n",
      "                     web = True           python : founda =    389.4 : 1.0\n",
      "                     ibm = True           introd : ai-for =    322.3 : 1.0\n",
      "              procrastin = True           learni : excel- =    318.3 : 1.0\n",
      "                   secur = True           introd : excel- =    275.0 : 1.0\n",
      "                  andrew = True           ai-for : learni =    259.2 : 1.0\n",
      "                   sound = True           introd : excel- =    196.3 : 1.0\n",
      "                   habit = True           learni : ai-for =    193.7 : 1.0\n",
      "                   brain = True           learni : ai-for =    192.1 : 1.0\n",
      "                  attack = True           introd : python =    189.0 : 1.0\n",
      "                  memori = True           learni : ai-for =    189.0 : 1.0\n",
      "                     tip = True           learni : introd =    179.3 : 1.0\n",
      "                 analysi = True           founda : learni =    164.3 : 1.0\n",
      "                artifici = True           ai-for : learni =    160.3 : 1.0\n",
      "                michigan = True           python : learni =    156.3 : 1.0\n",
      "               professor = True           python : founda =    147.2 : 1.0\n"
     ]
    }
   ],
   "source": [
    "model_nb.show_most_informative_features(25)"
   ]
  },
  {
   "cell_type": "code",
   "execution_count": 11,
   "metadata": {},
   "outputs": [
    {
     "data": {
      "text/html": [
       "<div>\n",
       "<style scoped>\n",
       "    .dataframe tbody tr th:only-of-type {\n",
       "        vertical-align: middle;\n",
       "    }\n",
       "\n",
       "    .dataframe tbody tr th {\n",
       "        vertical-align: top;\n",
       "    }\n",
       "\n",
       "    .dataframe thead th {\n",
       "        text-align: right;\n",
       "    }\n",
       "</style>\n",
       "<table border=\"1\" class=\"dataframe\">\n",
       "  <thead>\n",
       "    <tr style=\"text-align: right;\">\n",
       "      <th></th>\n",
       "      <th>course_name</th>\n",
       "      <th>predicted_course_name</th>\n",
       "    </tr>\n",
       "  </thead>\n",
       "  <tbody>\n",
       "    <tr>\n",
       "      <th>23338</th>\n",
       "      <td>foundations-data</td>\n",
       "      <td>foundations-data</td>\n",
       "    </tr>\n",
       "    <tr>\n",
       "      <th>51918</th>\n",
       "      <td>learning-how-to-learn</td>\n",
       "      <td>learning-how-to-learn</td>\n",
       "    </tr>\n",
       "    <tr>\n",
       "      <th>46867</th>\n",
       "      <td>python</td>\n",
       "      <td>python</td>\n",
       "    </tr>\n",
       "    <tr>\n",
       "      <th>6870</th>\n",
       "      <td>ai-for-everyone</td>\n",
       "      <td>learning-how-to-learn</td>\n",
       "    </tr>\n",
       "    <tr>\n",
       "      <th>26742</th>\n",
       "      <td>foundations-data</td>\n",
       "      <td>foundations-data</td>\n",
       "    </tr>\n",
       "    <tr>\n",
       "      <th>39131</th>\n",
       "      <td>python-network-data</td>\n",
       "      <td>python</td>\n",
       "    </tr>\n",
       "    <tr>\n",
       "      <th>46584</th>\n",
       "      <td>python</td>\n",
       "      <td>python</td>\n",
       "    </tr>\n",
       "    <tr>\n",
       "      <th>38640</th>\n",
       "      <td>python-network-data</td>\n",
       "      <td>introduction-cybersecurity-cyber-attacks</td>\n",
       "    </tr>\n",
       "    <tr>\n",
       "      <th>39277</th>\n",
       "      <td>python-network-data</td>\n",
       "      <td>python</td>\n",
       "    </tr>\n",
       "    <tr>\n",
       "      <th>22578</th>\n",
       "      <td>foundations-data</td>\n",
       "      <td>python</td>\n",
       "    </tr>\n",
       "  </tbody>\n",
       "</table>\n",
       "</div>"
      ],
      "text/plain": [
       "                 course_name                     predicted_course_name\n",
       "23338       foundations-data                          foundations-data\n",
       "51918  learning-how-to-learn                     learning-how-to-learn\n",
       "46867                 python                                    python\n",
       "6870         ai-for-everyone                     learning-how-to-learn\n",
       "26742       foundations-data                          foundations-data\n",
       "39131    python-network-data                                    python\n",
       "46584                 python                                    python\n",
       "38640    python-network-data  introduction-cybersecurity-cyber-attacks\n",
       "39277    python-network-data                                    python\n",
       "22578       foundations-data                                    python"
      ]
     },
     "execution_count": 11,
     "metadata": {},
     "output_type": "execute_result"
    }
   ],
   "source": [
    "# make a def to predict the course name using the model_nb\n",
    "def predict_course_name(row, model, words_to_train_with):\n",
    "    x = {token:True for token in row['tokens'] if token in words_to_train_with}\n",
    "    return model.classify(x)\n",
    "\n",
    "test['predicted_course_name'] = test.apply(lambda row: predict_course_name(row, model_nb, words_to_train_with), axis=1)\n",
    "test[['course_name', 'predicted_course_name']].sample(10)"
   ]
  },
  {
   "cell_type": "code",
   "execution_count": 12,
   "metadata": {},
   "outputs": [
    {
     "name": "stdout",
     "output_type": "stream",
     "text": [
      "Accuracy of the model: 47.31%\n"
     ]
    }
   ],
   "source": [
    "# calculate the accuracy of the model\n",
    "accuracy = nltk.classify.accuracy(model_nb, train_data)\n",
    "print('Accuracy of the model: %s' % f'{accuracy:.2%}')"
   ]
  },
  {
   "cell_type": "code",
   "execution_count": 13,
   "metadata": {},
   "outputs": [
    {
     "data": {
      "image/png": "[encoded data removed]",
      "text/plain": [
       "<Figure size 432x288 with 2 Axes>"
      ]
     },
     "metadata": {
      "needs_background": "light"
     },
     "output_type": "display_data"
    }
   ],
   "source": [
    "# calculate the confusion matrix of the model using sklearn\n",
    "from sklearn.metrics import confusion_matrix, ConfusionMatrixDisplay\n",
    "classification_labels = test['course_name'].unique()\n",
    "cmx = confusion_matrix(test['course_name'], test['predicted_course_name'], labels=classification_labels)\n",
    "\n",
    "ConfusionMatrixDisplay(confusion_matrix=cmx, display_labels=list(classification_labels)).plot( cmap='Blues',xticks_rotation='vertical')\n",
    "plt.show()"
   ]
  },
  {
   "cell_type": "code",
   "execution_count": 14,
   "metadata": {},
   "outputs": [
    {
     "data": {
      "text/html": [
       "<div>\n",
       "<style scoped>\n",
       "    .dataframe tbody tr th:only-of-type {\n",
       "        vertical-align: middle;\n",
       "    }\n",
       "\n",
       "    .dataframe tbody tr th {\n",
       "        vertical-align: top;\n",
       "    }\n",
       "\n",
       "    .dataframe thead th {\n",
       "        text-align: right;\n",
       "    }\n",
       "</style>\n",
       "<table border=\"1\" class=\"dataframe\">\n",
       "  <thead>\n",
       "    <tr style=\"text-align: right;\">\n",
       "      <th></th>\n",
       "      <th>ai-for-everyone</th>\n",
       "      <th>excel-essentials</th>\n",
       "      <th>foundations-data</th>\n",
       "      <th>introduction-cybersecurity-cyber-attacks</th>\n",
       "      <th>python-network-data</th>\n",
       "      <th>python</th>\n",
       "      <th>learning-how-to-learn</th>\n",
       "    </tr>\n",
       "  </thead>\n",
       "  <tbody>\n",
       "    <tr>\n",
       "      <th>ai-for-everyone</th>\n",
       "      <td>671</td>\n",
       "      <td>52</td>\n",
       "      <td>4</td>\n",
       "      <td>116</td>\n",
       "      <td>20</td>\n",
       "      <td>573</td>\n",
       "      <td>416</td>\n",
       "    </tr>\n",
       "    <tr>\n",
       "      <th>excel-essentials</th>\n",
       "      <td>4</td>\n",
       "      <td>282</td>\n",
       "      <td>2</td>\n",
       "      <td>18</td>\n",
       "      <td>5</td>\n",
       "      <td>944</td>\n",
       "      <td>792</td>\n",
       "    </tr>\n",
       "    <tr>\n",
       "      <th>foundations-data</th>\n",
       "      <td>7</td>\n",
       "      <td>61</td>\n",
       "      <td>526</td>\n",
       "      <td>54</td>\n",
       "      <td>6</td>\n",
       "      <td>855</td>\n",
       "      <td>515</td>\n",
       "    </tr>\n",
       "    <tr>\n",
       "      <th>introduction-cybersecurity-cyber-attacks</th>\n",
       "      <td>7</td>\n",
       "      <td>24</td>\n",
       "      <td>1</td>\n",
       "      <td>225</td>\n",
       "      <td>10</td>\n",
       "      <td>212</td>\n",
       "      <td>160</td>\n",
       "    </tr>\n",
       "    <tr>\n",
       "      <th>python-network-data</th>\n",
       "      <td>2</td>\n",
       "      <td>66</td>\n",
       "      <td>1</td>\n",
       "      <td>72</td>\n",
       "      <td>233</td>\n",
       "      <td>902</td>\n",
       "      <td>236</td>\n",
       "    </tr>\n",
       "    <tr>\n",
       "      <th>python</th>\n",
       "      <td>0</td>\n",
       "      <td>1</td>\n",
       "      <td>0</td>\n",
       "      <td>6</td>\n",
       "      <td>0</td>\n",
       "      <td>1910</td>\n",
       "      <td>112</td>\n",
       "    </tr>\n",
       "    <tr>\n",
       "      <th>learning-how-to-learn</th>\n",
       "      <td>0</td>\n",
       "      <td>0</td>\n",
       "      <td>0</td>\n",
       "      <td>20</td>\n",
       "      <td>0</td>\n",
       "      <td>61</td>\n",
       "      <td>1853</td>\n",
       "    </tr>\n",
       "  </tbody>\n",
       "</table>\n",
       "</div>"
      ],
      "text/plain": [
       "                                          ai-for-everyone  excel-essentials  \\\n",
       "ai-for-everyone                                       671                52   \n",
       "excel-essentials                                        4               282   \n",
       "foundations-data                                        7                61   \n",
       "introduction-cybersecurity-cyber-attacks                7                24   \n",
       "python-network-data                                     2                66   \n",
       "python                                                  0                 1   \n",
       "learning-how-to-learn                                   0                 0   \n",
       "\n",
       "                                          foundations-data  \\\n",
       "ai-for-everyone                                          4   \n",
       "excel-essentials                                         2   \n",
       "foundations-data                                       526   \n",
       "introduction-cybersecurity-cyber-attacks                 1   \n",
       "python-network-data                                      1   \n",
       "python                                                   0   \n",
       "learning-how-to-learn                                    0   \n",
       "\n",
       "                                          introduction-cybersecurity-cyber-attacks  \\\n",
       "ai-for-everyone                                                                116   \n",
       "excel-essentials                                                                18   \n",
       "foundations-data                                                                54   \n",
       "introduction-cybersecurity-cyber-attacks                                       225   \n",
       "python-network-data                                                             72   \n",
       "python                                                                           6   \n",
       "learning-how-to-learn                                                           20   \n",
       "\n",
       "                                          python-network-data  python  \\\n",
       "ai-for-everyone                                            20     573   \n",
       "excel-essentials                                            5     944   \n",
       "foundations-data                                            6     855   \n",
       "introduction-cybersecurity-cyber-attacks                   10     212   \n",
       "python-network-data                                       233     902   \n",
       "python                                                      0    1910   \n",
       "learning-how-to-learn                                       0      61   \n",
       "\n",
       "                                          learning-how-to-learn  \n",
       "ai-for-everyone                                             416  \n",
       "excel-essentials                                            792  \n",
       "foundations-data                                            515  \n",
       "introduction-cybersecurity-cyber-attacks                    160  \n",
       "python-network-data                                         236  \n",
       "python                                                      112  \n",
       "learning-how-to-learn                                      1853  "
      ]
     },
     "execution_count": 14,
     "metadata": {},
     "output_type": "execute_result"
    }
   ],
   "source": [
    "# Make a dataframe that holds the confusion matrix\n",
    "cmx_df = pd.DataFrame(cmx, index=classification_labels, columns=classification_labels)\n",
    "cmx_df"
   ]
  },
  {
   "cell_type": "code",
   "execution_count": 15,
   "metadata": {},
   "outputs": [
    {
     "name": "stdout",
     "output_type": "stream",
     "text": [
      "precision: 66.15% \n",
      "recall: 45.22% \n",
      "f1-measure: 42.00%\n"
     ]
    }
   ],
   "source": [
    "# calculate the precision, recall, f1-measure of the model\n",
    "from sklearn.metrics import precision_recall_fscore_support\n",
    "precision, recall, f1, _ = precision_recall_fscore_support(test['course_name'], test['predicted_course_name'], labels=classification_labels)\n",
    "\n",
    "# average the precision, recall, f1-measure\n",
    "precision_avg = np.average(precision)\n",
    "recall_avg = np.average(recall)\n",
    "f1_avg = np.average(f1)\n",
    "\n",
    "# show the results\n",
    "print('precision: %s \\nrecall: %s \\nf1-measure: %s' % (f'{precision_avg:.2%}', f'{recall_avg:.2%}', f'{f1_avg:.2%}'))"
   ]
  },
  {
   "cell_type": "markdown",
   "metadata": {},
   "source": [
    "### SVM Model"
   ]
  },
  {
   "cell_type": "code",
   "execution_count": 50,
   "metadata": {},
   "outputs": [
    {
     "data": {
      "text/plain": [
       "5    55888\n",
       "Name: star, dtype: int64"
      ]
     },
     "execution_count": 50,
     "metadata": {},
     "output_type": "execute_result"
    }
   ],
   "source": [
    "df.query(\"star == '5'\")['star'].value_counts()"
   ]
  },
  {
   "cell_type": "code",
   "execution_count": 51,
   "metadata": {},
   "outputs": [
    {
     "data": {
      "text/plain": [
       "4    2956\n",
       "3     775\n",
       "1     302\n",
       "2     265\n",
       "Name: star, dtype: int64"
      ]
     },
     "execution_count": 51,
     "metadata": {},
     "output_type": "execute_result"
    }
   ],
   "source": [
    "df.query(\"star != '5'\")['star'].value_counts()"
   ]
  },
  {
   "cell_type": "code",
   "execution_count": null,
   "metadata": {},
   "outputs": [],
   "source": [
    "About Page...\n",
    "\n",
    "pip freeze > requirements.txt\n",
    "\n",
    "search Google for grepper to see what it does"
   ]
  },
  {
   "cell_type": "code",
   "execution_count": 20,
   "metadata": {},
   "outputs": [],
   "source": [
    "def predicted_star(x_train, y_train):\n",
    "    '''\n",
    "    The idea behind the following code is from the following YouTube video:\n",
    "    \n",
    "    Rodolfo Moreira\n",
    "    March 6, 2022\n",
    "    https://www.youtube.com/watch?v=ep2e-adqxFI&ab_channel=DataProductsbyRodolfoMoreira\n",
    "    '''\n",
    "    x = x_train # train['raw_tokens']\n",
    "    y = y_train # train['star']\n",
    "\n",
    "    cv = CountVectorizer()\n",
    "    base_features = cv.fit(x)\n",
    "    features = cv.fit(x).transform(x)\n",
    "\n",
    "    model_svm = svm.SVC()\n",
    "    return model_svm.fit(features, y)"
   ]
  },
  {
   "cell_type": "code",
   "execution_count": 42,
   "metadata": {},
   "outputs": [
    {
     "data": {
      "text/html": [
       "<style>#sk-container-id-7 {color: black;background-color: white;}#sk-container-id-7 pre{padding: 0;}#sk-container-id-7 div.sk-toggleable {background-color: white;}#sk-container-id-7 label.sk-toggleable__label {cursor: pointer;display: block;width: 100%;margin-bottom: 0;padding: 0.3em;box-sizing: border-box;text-align: center;}#sk-container-id-7 label.sk-toggleable__label-arrow:before {content: \"▸\";float: left;margin-right: 0.25em;color: #696969;}#sk-container-id-7 label.sk-toggleable__label-arrow:hover:before {color: black;}#sk-container-id-7 div.sk-estimator:hover label.sk-toggleable__label-arrow:before {color: black;}#sk-container-id-7 div.sk-toggleable__content {max-height: 0;max-width: 0;overflow: hidden;text-align: left;background-color: #f0f8ff;}#sk-container-id-7 div.sk-toggleable__content pre {margin: 0.2em;color: black;border-radius: 0.25em;background-color: #f0f8ff;}#sk-container-id-7 input.sk-toggleable__control:checked~div.sk-toggleable__content {max-height: 200px;max-width: 100%;overflow: auto;}#sk-container-id-7 input.sk-toggleable__control:checked~label.sk-toggleable__label-arrow:before {content: \"▾\";}#sk-container-id-7 div.sk-estimator input.sk-toggleable__control:checked~label.sk-toggleable__label {background-color: #d4ebff;}#sk-container-id-7 div.sk-label input.sk-toggleable__control:checked~label.sk-toggleable__label {background-color: #d4ebff;}#sk-container-id-7 input.sk-hidden--visually {border: 0;clip: rect(1px 1px 1px 1px);clip: rect(1px, 1px, 1px, 1px);height: 1px;margin: -1px;overflow: hidden;padding: 0;position: absolute;width: 1px;}#sk-container-id-7 div.sk-estimator {font-family: monospace;background-color: #f0f8ff;border: 1px dotted black;border-radius: 0.25em;box-sizing: border-box;margin-bottom: 0.5em;}#sk-container-id-7 div.sk-estimator:hover {background-color: #d4ebff;}#sk-container-id-7 div.sk-parallel-item::after {content: \"\";width: 100%;border-bottom: 1px solid gray;flex-grow: 1;}#sk-container-id-7 div.sk-label:hover label.sk-toggleable__label {background-color: #d4ebff;}#sk-container-id-7 div.sk-serial::before {content: \"\";position: absolute;border-left: 1px solid gray;box-sizing: border-box;top: 0;bottom: 0;left: 50%;z-index: 0;}#sk-container-id-7 div.sk-serial {display: flex;flex-direction: column;align-items: center;background-color: white;padding-right: 0.2em;padding-left: 0.2em;position: relative;}#sk-container-id-7 div.sk-item {position: relative;z-index: 1;}#sk-container-id-7 div.sk-parallel {display: flex;align-items: stretch;justify-content: center;background-color: white;position: relative;}#sk-container-id-7 div.sk-item::before, #sk-container-id-7 div.sk-parallel-item::before {content: \"\";position: absolute;border-left: 1px solid gray;box-sizing: border-box;top: 0;bottom: 0;left: 50%;z-index: -1;}#sk-container-id-7 div.sk-parallel-item {display: flex;flex-direction: column;z-index: 1;position: relative;background-color: white;}#sk-container-id-7 div.sk-parallel-item:first-child::after {align-self: flex-end;width: 50%;}#sk-container-id-7 div.sk-parallel-item:last-child::after {align-self: flex-start;width: 50%;}#sk-container-id-7 div.sk-parallel-item:only-child::after {width: 0;}#sk-container-id-7 div.sk-dashed-wrapped {border: 1px dashed gray;margin: 0 0.4em 0.5em 0.4em;box-sizing: border-box;padding-bottom: 0.4em;background-color: white;}#sk-container-id-7 div.sk-label label {font-family: monospace;font-weight: bold;display: inline-block;line-height: 1.2em;}#sk-container-id-7 div.sk-label-container {text-align: center;}#sk-container-id-7 div.sk-container {/* jupyter's `normalize.less` sets `[hidden] { display: none; }` but bootstrap.min.css set `[hidden] { display: none !important; }` so we also need the `!important` here to be able to override the default hidden behavior on the sphinx rendered scikit-learn.org. See: https://github.com/scikit-learn/scikit-learn/issues/21755 */display: inline-block !important;position: relative;}#sk-container-id-7 div.sk-text-repr-fallback {display: none;}</style><div id=\"sk-container-id-7\" class=\"sk-top-container\"><div class=\"sk-text-repr-fallback\"><pre>LinearSVC(class_weight=&#x27;balanced&#x27;)</pre><b>In a Jupyter environment, please rerun this cell to show the HTML representation or trust the notebook. <br />On GitHub, the HTML representation is unable to render, please try loading this page with nbviewer.org.</b></div><div class=\"sk-container\" hidden><div class=\"sk-item\"><div class=\"sk-estimator sk-toggleable\"><input class=\"sk-toggleable__control sk-hidden--visually\" id=\"sk-estimator-id-7\" type=\"checkbox\" checked><label for=\"sk-estimator-id-7\" class=\"sk-toggleable__label sk-toggleable__label-arrow\">LinearSVC</label><div class=\"sk-toggleable__content\"><pre>LinearSVC(class_weight=&#x27;balanced&#x27;)</pre></div></div></div></div></div>"
      ],
      "text/plain": [
       "LinearSVC(class_weight='balanced')"
      ]
     },
     "execution_count": 42,
     "metadata": {},
     "output_type": "execute_result"
    }
   ],
   "source": [
    "x = train.query(\"star != '5'\")['raw_tokens']\n",
    "y = train.query(\"star != '5'\")['star']\n",
    "\n",
    "cv = CountVectorizer()\n",
    "base_features = cv.fit(x)\n",
    "features = cv.fit(x).transform(x)\n",
    "\n",
    "## NOTE: LinearSVC runs a lot faster than SVC\n",
    "\n",
    "model_svm = svm.LinearSVC(class_weight='balanced')\n",
    "model_svm.fit(features, y)"
   ]
  },
  {
   "cell_type": "code",
   "execution_count": 43,
   "metadata": {},
   "outputs": [
    {
     "name": "stdout",
     "output_type": "stream",
     "text": [
      "Accuracy of the model: 0.04245243831519482\n"
     ]
    }
   ],
   "source": [
    "features_test = base_features.transform(test['raw_tokens'])\n",
    "print(\"Accuracy of the model: {}\".format(model_svm.score(features_test, test['star'])))"
   ]
  },
  {
   "cell_type": "code",
   "execution_count": 45,
   "metadata": {},
   "outputs": [
    {
     "data": {
      "text/plain": [
       "array(['2'], dtype=object)"
      ]
     },
     "execution_count": 45,
     "metadata": {},
     "output_type": "execute_result"
    }
   ],
   "source": [
    "# Predict Star rating\n",
    "predict_review = np.array(['This is the best class ever'])\n",
    "review_series = pd.Series(predict_review, copy=False)\n",
    "star_prediction = base_features.transform(review_series)\n",
    "model_svm.predict(star_prediction)"
   ]
  }
 ],
 "metadata": {
  "kernelspec": {
   "display_name": "Python 3 (ipykernel)",
   "language": "python",
   "name": "python3"
  },
  "language_info": {
   "codemirror_mode": {
    "name": "ipython",
    "version": 3
   },
   "file_extension": ".py",
   "mimetype": "text/x-python",
   "name": "python",
   "nbconvert_exporter": "python",
   "pygments_lexer": "ipython3",
   "version": "3.9.1"
  },
  "vscode": {
   "interpreter": {
    "hash": "aee8b7b246df8f9039afb4144a1f6fd8d2ca17a180786b69acc140d282b71a49"
   }
  }
 },
 "nbformat": 4,
 "nbformat_minor": 2
}

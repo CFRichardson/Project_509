{
 "cells": [
  {
   "cell_type": "code",
   "execution_count": 1,
   "metadata": {
    "collapsed": true,
    "pycharm": {
     "name": "#%%\n"
    }
   },
   "outputs": [],
   "source": [
    "import datetime\n",
    "import os\n",
    "import numpy as np\n",
    "import pandas as pd\n",
    "import random\n",
    "import re\n",
    "import requests\n",
    "import selenium\n",
    "import shutil\n",
    "import time\n",
    "import tqdm\n",
    "\n",
    "# Selenium Dependent\n",
    "from selenium import webdriver\n",
    "from selenium.webdriver.common.by import By\n",
    "from webdriver_manager.chrome import ChromeDriverManager\n",
    "from webdriver_manager.core.utils import ChromeType\n",
    "\n",
    "\n",
    "from bs4 import BeautifulSoup\n",
    "from collections import defaultdict, Counter\n",
    "from pprint import pprint\n"
   ]
  },
  {
   "cell_type": "code",
   "execution_count": 42,
   "outputs": [],
   "source": [
    "def folder_maker(folder2make):\n",
    "    # create directory to store html files\n",
    "    if os.path.isdir(folder2make):\n",
    "        shutil.rmtree(folder2make)\n",
    "    os.mkdir(folder2make)\n",
    "\n",
    "\n",
    "def nap_time(min_seconds=40):\n",
    "    timer = np.random.randint(1,60) + min_seconds\n",
    "    time.sleep(timer)"
   ],
   "metadata": {
    "collapsed": false,
    "pycharm": {
     "name": "#%%\n"
    }
   }
  },
  {
   "cell_type": "code",
   "execution_count": 3,
   "outputs": [
    {
     "data": {
      "text/plain": "                                             Title  \\\n11     Ask questions to make data-driven decisions   \n4                                       OOP Python   \n6   Python Object Basics: List, Strings, and Files   \n\n                                                 Link  \n11  https://www.coursera.org/learn/ask-questions-m...  \n4   https://www.coursera.org/learn/object-oriented...  \n6   https://www.coursera.org/learn/python-basic-st...  ",
      "text/html": "<div>\n<style scoped>\n    .dataframe tbody tr th:only-of-type {\n        vertical-align: middle;\n    }\n\n    .dataframe tbody tr th {\n        vertical-align: top;\n    }\n\n    .dataframe thead th {\n        text-align: right;\n    }\n</style>\n<table border=\"1\" class=\"dataframe\">\n  <thead>\n    <tr style=\"text-align: right;\">\n      <th></th>\n      <th>Title</th>\n      <th>Link</th>\n    </tr>\n  </thead>\n  <tbody>\n    <tr>\n      <th>11</th>\n      <td>Ask questions to make data-driven decisions</td>\n      <td>https://www.coursera.org/learn/ask-questions-m...</td>\n    </tr>\n    <tr>\n      <th>4</th>\n      <td>OOP Python</td>\n      <td>https://www.coursera.org/learn/object-oriented...</td>\n    </tr>\n    <tr>\n      <th>6</th>\n      <td>Python Object Basics: List, Strings, and Files</td>\n      <td>https://www.coursera.org/learn/python-basic-st...</td>\n    </tr>\n  </tbody>\n</table>\n</div>"
     },
     "execution_count": 3,
     "metadata": {},
     "output_type": "execute_result"
    }
   ],
   "source": [
    "path_ = '/Volumes/GoogleDrive/My Drive/_509/projekt_509/coursera_courses.csv'\n",
    "courses_df = pd.read_csv(path_)\n",
    "courses_df.sample(3)"
   ],
   "metadata": {
    "collapsed": false,
    "pycharm": {
     "name": "#%%\n"
    }
   }
  },
  {
   "cell_type": "code",
   "execution_count": 54,
   "outputs": [
    {
     "name": "stderr",
     "output_type": "stream",
     "text": [
      "/var/folders/7s/yfj6qr7s1l7gp41rtvvtnbp00000gn/T/ipykernel_58224/14171497.py:1: DeprecationWarning: executable_path has been deprecated, please pass in a Service object\n",
      "  driver = webdriver.Chrome(ChromeDriverManager(chrome_type=ChromeType.CHROMIUM).install())\n"
     ]
    }
   ],
   "source": [
    "driver = webdriver.Chrome(ChromeDriverManager(chrome_type=ChromeType.CHROMIUM).install())\n"
   ],
   "metadata": {
    "collapsed": false,
    "pycharm": {
     "name": "#%%\n"
    }
   }
  },
  {
   "cell_type": "code",
   "execution_count": 55,
   "outputs": [],
   "source": [
    "# 500 pages == 12.5k reviews\n",
    "max_pages = 500\n",
    "review_container_class = 'cds-63 review review-text review-page-review m-b-2 css-0 cds-64'\n",
    "\n",
    "\n",
    "for index, row in courses_df.iterrows():\n",
    "    link = row['Link']\n",
    "\n",
    "    course_name = link.split('/')[-2]\n",
    "\n",
    "    # initialize to starting page\n",
    "    driver.get(link + '?page=1')\n",
    "\n",
    "    html = driver.page_source\n",
    "    soup = BeautifulSoup(html, 'html.parser')\n",
    "\n",
    "    # dynamic page checker, returns number of pages for course\n",
    "    len_pages = len(soup.find_all('li', style='display:inline-block')) - 2 # last link is next page, plus 0 initial counting\n",
    "    total_pages = soup.find_all('li', style='display:inline-block')[len_pages]\n",
    "    total_pages = int(total_pages.text)\n",
    "    # 500 pages == 12.5k reviews\n",
    "    if total_pages > max_pages:\n",
    "        total_pages = max_pages\n",
    "\n",
    "    review_items = []\n",
    "    for page_num in range(1,total_pages):\n",
    "        nap_time()\n",
    "\n",
    "        reviews_containers = soup.find_all('div', class_=review_container_class)\n",
    "\n",
    "        for review_set in reviews_containers:\n",
    "            html = driver.page_source\n",
    "            soup = BeautifulSoup(html, 'html.parser')\n",
    "\n",
    "            text = review_set.select_one('.reviewText').p.text\n",
    "\n",
    "            wanted_span = len(review_set.select('span')) - 1\n",
    "            helpful_count = review_set.select('span')[wanted_span].text\n",
    "\n",
    "            review_items.append({'text':text,\n",
    "                                 'helpful_count':helpful_count})\n",
    "\n",
    "        # click next page\n",
    "        next_button_num = len(driver.find_elements(By.CLASS_NAME, \"_1lutnh9y\")) - 1\n",
    "        driver.find_elements(By.CLASS_NAME, \"_1lutnh9y\")[next_button_num].click()\n",
    "\n",
    "\n",
    "    pd.DataFrame()\n",
    "    nap_time()\n"
   ],
   "metadata": {
    "collapsed": false,
    "pycharm": {
     "name": "#%%\n"
    }
   }
  },
  {
   "cell_type": "code",
   "execution_count": 41,
   "outputs": [],
   "source": [
    "# driver.close()"
   ],
   "metadata": {
    "collapsed": false,
    "pycharm": {
     "name": "#%%\n"
    }
   }
  },
  {
   "cell_type": "markdown",
   "source": [
    "# Step Through FN"
   ],
   "metadata": {
    "collapsed": false,
    "pycharm": {
     "name": "#%% md\n"
    }
   }
  },
  {
   "cell_type": "code",
   "execution_count": 7,
   "outputs": [],
   "source": [
    "html = driver.page_source\n",
    "soup = BeautifulSoup(html, 'html.parser')\n",
    "\n",
    "# dynamic page checker, returns number of pages for course\n",
    "len_pages = len(soup.find_all('li', style='display:inline-block')) - 2 # last link is next page, plus 0 initial counting\n",
    "total_pages = soup.find_all('li', style='display:inline-block')[len_pages]\n",
    "total_pages = int(total_pages.text)"
   ],
   "metadata": {
    "collapsed": false,
    "pycharm": {
     "name": "#%%\n"
    }
   }
  },
  {
   "cell_type": "code",
   "execution_count": 8,
   "outputs": [],
   "source": [
    "review_container_class = 'cds-63 review review-text review-page-review m-b-2 css-0 cds-64'\n",
    "reviews_containers = soup.find_all('div', class_=review_container_class)"
   ],
   "metadata": {
    "collapsed": false,
    "pycharm": {
     "name": "#%%\n"
    }
   }
  },
  {
   "cell_type": "code",
   "execution_count": 10,
   "outputs": [],
   "source": [
    "review_items = []\n",
    "for review_set in reviews_containers:\n",
    "    text = review_set.select_one('.reviewText').p.text\n",
    "\n",
    "    wanted_span = len(review_set.select('span')) - 1\n",
    "    helpful_count = review_set.select('span')[wanted_span].text\n",
    "\n",
    "    review_items.append({'text':text,\n",
    "                         'helpful_count':helpful_count})\n",
    "\n",
    "# click next page\n",
    "next_button_num = len(driver.find_elements(By.CLASS_NAME, \"_1lutnh9y\")) - 1\n",
    "driver.find_elements(By.CLASS_NAME, \"_1lutnh9y\")[next_button_num].click()"
   ],
   "metadata": {
    "collapsed": false,
    "pycharm": {
     "name": "#%%\n"
    }
   }
  }
 ],
 "metadata": {
  "kernelspec": {
   "display_name": "Python 3",
   "language": "python",
   "name": "python3"
  },
  "language_info": {
   "codemirror_mode": {
    "name": "ipython",
    "version": 2
   },
   "file_extension": ".py",
   "mimetype": "text/x-python",
   "name": "python",
   "nbconvert_exporter": "python",
   "pygments_lexer": "ipython2",
   "version": "2.7.6"
  }
 },
 "nbformat": 4,
 "nbformat_minor": 0
}
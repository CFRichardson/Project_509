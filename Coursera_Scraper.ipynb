{
 "cells": [
  {
   "cell_type": "code",
   "execution_count": 1,
   "metadata": {
    "collapsed": true,
    "pycharm": {
     "name": "#%%\n"
    }
   },
   "outputs": [],
   "source": [
    "import datetime\n",
    "import os\n",
    "import numpy as np\n",
    "import pandas as pd\n",
    "import random\n",
    "import re\n",
    "import requests\n",
    "import selenium\n",
    "import shutil\n",
    "import time\n",
    "import tqdm\n",
    "\n",
    "# Selenium Dependent\n",
    "from selenium import webdriver\n",
    "from selenium.webdriver.common.by import By\n",
    "from webdriver_manager.chrome import ChromeDriverManager\n",
    "from webdriver_manager.core.utils import ChromeType\n",
    "\n",
    "\n",
    "from bs4 import BeautifulSoup\n",
    "from collections import defaultdict, Counter\n",
    "from pprint import pprint\n"
   ]
  },
  {
   "cell_type": "code",
   "execution_count": 70,
   "outputs": [],
   "source": [
    "def folder_maker(folder2make):\n",
    "    # create directory to store html files\n",
    "    if os.path.isdir(folder2make):\n",
    "        shutil.rmtree(folder2make)\n",
    "    os.mkdir(folder2make)\n",
    "\n",
    "\n",
    "def nap_time(min_seconds=10):\n",
    "    timer = np.random.randint(1,60) + min_seconds\n",
    "    time.sleep(timer)"
   ],
   "metadata": {
    "collapsed": false,
    "pycharm": {
     "name": "#%%\n"
    }
   }
  },
  {
   "cell_type": "code",
   "execution_count": 3,
   "outputs": [
    {
     "data": {
      "text/plain": "                                             Title  \\\n11     Ask questions to make data-driven decisions   \n4                                       OOP Python   \n6   Python Object Basics: List, Strings, and Files   \n\n                                                 Link  \n11  https://www.coursera.org/learn/ask-questions-m...  \n4   https://www.coursera.org/learn/object-oriented...  \n6   https://www.coursera.org/learn/python-basic-st...  ",
      "text/html": "<div>\n<style scoped>\n    .dataframe tbody tr th:only-of-type {\n        vertical-align: middle;\n    }\n\n    .dataframe tbody tr th {\n        vertical-align: top;\n    }\n\n    .dataframe thead th {\n        text-align: right;\n    }\n</style>\n<table border=\"1\" class=\"dataframe\">\n  <thead>\n    <tr style=\"text-align: right;\">\n      <th></th>\n      <th>Title</th>\n      <th>Link</th>\n    </tr>\n  </thead>\n  <tbody>\n    <tr>\n      <th>11</th>\n      <td>Ask questions to make data-driven decisions</td>\n      <td>https://www.coursera.org/learn/ask-questions-m...</td>\n    </tr>\n    <tr>\n      <th>4</th>\n      <td>OOP Python</td>\n      <td>https://www.coursera.org/learn/object-oriented...</td>\n    </tr>\n    <tr>\n      <th>6</th>\n      <td>Python Object Basics: List, Strings, and Files</td>\n      <td>https://www.coursera.org/learn/python-basic-st...</td>\n    </tr>\n  </tbody>\n</table>\n</div>"
     },
     "execution_count": 3,
     "metadata": {},
     "output_type": "execute_result"
    }
   ],
   "source": [
    "path_ = '/Volumes/GoogleDrive/My Drive/_509/projekt_509/coursera_courses.csv'\n",
    "courses_df = pd.read_csv(path_)\n",
    "courses_df.sample(3)"
   ],
   "metadata": {
    "collapsed": false,
    "pycharm": {
     "name": "#%%\n"
    }
   }
  },
  {
   "cell_type": "code",
   "execution_count": 66,
   "outputs": [
    {
     "name": "stderr",
     "output_type": "stream",
     "text": [
      "/var/folders/7s/yfj6qr7s1l7gp41rtvvtnbp00000gn/T/ipykernel_58224/2850699318.py:1: DeprecationWarning: executable_path has been deprecated, please pass in a Service object\n",
      "  driver = webdriver.Chrome(ChromeDriverManager(chrome_type=ChromeType.CHROMIUM).install())\n"
     ]
    }
   ],
   "source": [
    "driver = webdriver.Chrome(ChromeDriverManager(chrome_type=ChromeType.CHROMIUM).install())"
   ],
   "metadata": {
    "collapsed": false,
    "pycharm": {
     "name": "#%%\n"
    }
   }
  },
  {
   "cell_type": "code",
   "execution_count": 62,
   "outputs": [],
   "source": [
    "# driver.close()"
   ],
   "metadata": {
    "collapsed": false,
    "pycharm": {
     "name": "#%%\n"
    }
   }
  },
  {
   "cell_type": "code",
   "execution_count": 67,
   "outputs": [],
   "source": [
    "# 500 pages == 12.5k reviews\n",
    "max_pages = 500\n",
    "review_container_class = 'cds-63 review review-text review-page-review m-b-2 css-0 cds-64'\n",
    "\n",
    "\n",
    "for index, row in courses_df.iterrows():\n",
    "    link = row['Link']\n",
    "\n",
    "    course_name = link.split('/')[-2]\n",
    "\n",
    "    # initialize to starting page\n",
    "    driver.get(link + '?page=1')\n",
    "\n",
    "    html = driver.page_source\n",
    "    soup = BeautifulSoup(html, 'html.parser')\n",
    "\n",
    "    # dynamic page checker, returns number of pages for course\n",
    "    len_pages = len(soup.find_all('li', style='display:inline-block')) - 2 # last link is next page, plus 0 initial counting\n",
    "    total_pages = soup.find_all('li', style='display:inline-block')[len_pages]\n",
    "    total_pages = int(total_pages.text)\n",
    "    # 500 pages == 12.5k reviews\n",
    "    if total_pages > max_pages:\n",
    "        total_pages = max_pages\n",
    "    #\n",
    "    # review_items = []\n",
    "    # for page_num in range(1,total_pages):\n",
    "    #     nap_time()\n",
    "    #\n",
    "    #     reviews_containers = soup.find_all('div', class_=review_container_class)\n",
    "    #\n",
    "    #     for review_set in reviews_containers:\n",
    "    #         html = driver.page_source\n",
    "    #         soup = BeautifulSoup(html, 'html.parser')\n",
    "    #\n",
    "    #         text = review_set.select_one('.reviewText').p.text\n",
    "    #\n",
    "    #         wanted_span = len(review_set.select('span')) - 1\n",
    "    #         helpful_count = review_set.select('span')[wanted_span].text\n",
    "    #\n",
    "    #         review_items.append({'text':text,\n",
    "    #                              'helpful_count':helpful_count})\n",
    "    #\n",
    "    #     if page num < total_pages:\n",
    "    #         driver.get(link + f'?page={page_num}')\n",
    "\n"
   ],
   "metadata": {
    "collapsed": false,
    "pycharm": {
     "name": "#%%\n"
    }
   }
  },
  {
   "cell_type": "code",
   "execution_count": 68,
   "outputs": [],
   "source": [
    "total_pages = 3\n",
    "review_items = []\n",
    "for page_num in range(1,total_pages):\n",
    "\n",
    "    html = driver.page_source\n",
    "    soup = BeautifulSoup(html, 'html.parser')\n",
    "\n",
    "    reviews_containers = soup.find_all('div', class_=review_container_class)\n",
    "\n",
    "    for review_set in reviews_containers:\n",
    "        text = review_set.select_one('.reviewText').p.text\n",
    "\n",
    "        wanted_span = len(review_set.select('span')) - 1\n",
    "        helpful_count = review_set.select('span')[wanted_span].text\n",
    "\n",
    "        review_items.append({'text':text,\n",
    "                             'helpful_count':helpful_count})\n",
    "\n",
    "    nap_time()\n",
    "    if page_num < total_pages:\n",
    "        driver.get(link + f'?page={page_num+1}')\n"
   ],
   "metadata": {
    "collapsed": false,
    "pycharm": {
     "name": "#%%\n"
    }
   }
  },
  {
   "cell_type": "code",
   "execution_count": 74,
   "outputs": [
    {
     "data": {
      "text/plain": "                                                 text          helpful_count\n0   So far courses 1 and 2 have been great with ex...  This is helpful (129)\n1   Unfortunately on the whole I was very disappoi...   This is helpful (97)\n2   The assignments often go way beyond what is ta...   This is helpful (49)\n3   This third course is getting much more difficu...   This is helpful (47)\n4   This course was horribly explained. The XML an...   This is helpful (42)\n5   Doing this course is not so much related to Py...   This is helpful (22)\n6                                                       This is helpful (20)\n7   Great course. The lectures are clear and thoro...   This is helpful (18)\n8   well this was a good course though but I didn'...   This is helpful (17)\n9   Getting a bit more challenging than the earlie...   This is helpful (15)\n10  The course was great, but the teaching staff w...   This is helpful (15)\n11  NOTE: I am taking this course as a professiona...   This is helpful (14)\n12  Great up until Week 5 & 6. Probably needs to b...   This is helpful (13)\n13  Horrible course, it should not be part of this...   This is helpful (12)\n14  Great material, but it feels a bit rushed, cov...   This is helpful (11)\n15  This course was really interesting and did a g...   This is helpful (10)\n16  I'm not confident I know how to write the code...    This is helpful (9)\n17  The course fails to teach anything. The concep...    This is helpful (9)\n18  Well being a graduate of CSE course 1 & 2 of t...    This is helpful (8)\n19  Previous courses seem better constructed and m...    This is helpful (8)\n20  This course does introduce the beginning stude...    This is helpful (8)\n21  Excellent introduction into accessing and scra...    This is helpful (7)\n22  One of the Great Course on web Data Accessing ...    This is helpful (6)\n23    Dr. Charles Severance is by far the best Com...    This is helpful (5)\n24  The course materials provided are very clear a...    This is helpful (4)\n25  When I was about to start this course after th...    This is helpful (3)\n26  This course is great to introduce you to regul...    This is helpful (3)\n27  Took the first two courses which were fine but...    This is helpful (3)\n28    Horrible TAs. They should all be changed. Th...    This is helpful (3)\n29             teaching staff.......no good, helpless    This is helpful (3)\n30                explanation was not up to the mark.    This is helpful (3)\n31                            really hard assignments    This is helpful (3)\n32                              Time wasting & rubish    This is helpful (3)\n33  Yet another excellent course... My prior revie...    This is helpful (2)\n34  Disclaimer: If you're taking the Python for Ev...    This is helpful (2)\n35  I had low expectations for this course as the ...    This is helpful (2)\n36  The course teaches the basics of how to intera...    This is helpful (2)\n37  Great course for introduction to parse Web Dat...    This is helpful (2)\n38  I think that the average user will be overexer...    This is helpful (2)\n39                    I would give 0 stars if I could    This is helpful (2)\n40  Overall  I really enjoyed the course and I hop...    This is helpful (1)\n41  Professor Severance is awesome. I really like ...    This is helpful (1)\n42  This is the third course of Python for Everybo...    This is helpful (1)\n43                 Thank You Lord for the strength!!!    This is helpful (1)\n44  Veyr interessing course. I am not an expert in...    This is helpful (1)\n45  Very versatilte and touched a wide range of re...    This is helpful (1)\n46  It's not that easy like previous two courses. ...    This is helpful (1)\n47  The course gives good start to python programm...    This is helpful (1)\n48  I​ have learnt many new things. Assignments ar...    This is helpful (1)\n49  This is one of the most useful courses I passe...    This is helpful (1)",
      "text/html": "<div>\n<style scoped>\n    .dataframe tbody tr th:only-of-type {\n        vertical-align: middle;\n    }\n\n    .dataframe tbody tr th {\n        vertical-align: top;\n    }\n\n    .dataframe thead th {\n        text-align: right;\n    }\n</style>\n<table border=\"1\" class=\"dataframe\">\n  <thead>\n    <tr style=\"text-align: right;\">\n      <th></th>\n      <th>text</th>\n      <th>helpful_count</th>\n    </tr>\n  </thead>\n  <tbody>\n    <tr>\n      <th>0</th>\n      <td>So far courses 1 and 2 have been great with ex...</td>\n      <td>This is helpful (129)</td>\n    </tr>\n    <tr>\n      <th>1</th>\n      <td>Unfortunately on the whole I was very disappoi...</td>\n      <td>This is helpful (97)</td>\n    </tr>\n    <tr>\n      <th>2</th>\n      <td>The assignments often go way beyond what is ta...</td>\n      <td>This is helpful (49)</td>\n    </tr>\n    <tr>\n      <th>3</th>\n      <td>This third course is getting much more difficu...</td>\n      <td>This is helpful (47)</td>\n    </tr>\n    <tr>\n      <th>4</th>\n      <td>This course was horribly explained. The XML an...</td>\n      <td>This is helpful (42)</td>\n    </tr>\n    <tr>\n      <th>5</th>\n      <td>Doing this course is not so much related to Py...</td>\n      <td>This is helpful (22)</td>\n    </tr>\n    <tr>\n      <th>6</th>\n      <td></td>\n      <td>This is helpful (20)</td>\n    </tr>\n    <tr>\n      <th>7</th>\n      <td>Great course. The lectures are clear and thoro...</td>\n      <td>This is helpful (18)</td>\n    </tr>\n    <tr>\n      <th>8</th>\n      <td>well this was a good course though but I didn'...</td>\n      <td>This is helpful (17)</td>\n    </tr>\n    <tr>\n      <th>9</th>\n      <td>Getting a bit more challenging than the earlie...</td>\n      <td>This is helpful (15)</td>\n    </tr>\n    <tr>\n      <th>10</th>\n      <td>The course was great, but the teaching staff w...</td>\n      <td>This is helpful (15)</td>\n    </tr>\n    <tr>\n      <th>11</th>\n      <td>NOTE: I am taking this course as a professiona...</td>\n      <td>This is helpful (14)</td>\n    </tr>\n    <tr>\n      <th>12</th>\n      <td>Great up until Week 5 &amp; 6. Probably needs to b...</td>\n      <td>This is helpful (13)</td>\n    </tr>\n    <tr>\n      <th>13</th>\n      <td>Horrible course, it should not be part of this...</td>\n      <td>This is helpful (12)</td>\n    </tr>\n    <tr>\n      <th>14</th>\n      <td>Great material, but it feels a bit rushed, cov...</td>\n      <td>This is helpful (11)</td>\n    </tr>\n    <tr>\n      <th>15</th>\n      <td>This course was really interesting and did a g...</td>\n      <td>This is helpful (10)</td>\n    </tr>\n    <tr>\n      <th>16</th>\n      <td>I'm not confident I know how to write the code...</td>\n      <td>This is helpful (9)</td>\n    </tr>\n    <tr>\n      <th>17</th>\n      <td>The course fails to teach anything. The concep...</td>\n      <td>This is helpful (9)</td>\n    </tr>\n    <tr>\n      <th>18</th>\n      <td>Well being a graduate of CSE course 1 &amp; 2 of t...</td>\n      <td>This is helpful (8)</td>\n    </tr>\n    <tr>\n      <th>19</th>\n      <td>Previous courses seem better constructed and m...</td>\n      <td>This is helpful (8)</td>\n    </tr>\n    <tr>\n      <th>20</th>\n      <td>This course does introduce the beginning stude...</td>\n      <td>This is helpful (8)</td>\n    </tr>\n    <tr>\n      <th>21</th>\n      <td>Excellent introduction into accessing and scra...</td>\n      <td>This is helpful (7)</td>\n    </tr>\n    <tr>\n      <th>22</th>\n      <td>One of the Great Course on web Data Accessing ...</td>\n      <td>This is helpful (6)</td>\n    </tr>\n    <tr>\n      <th>23</th>\n      <td>Dr. Charles Severance is by far the best Com...</td>\n      <td>This is helpful (5)</td>\n    </tr>\n    <tr>\n      <th>24</th>\n      <td>The course materials provided are very clear a...</td>\n      <td>This is helpful (4)</td>\n    </tr>\n    <tr>\n      <th>25</th>\n      <td>When I was about to start this course after th...</td>\n      <td>This is helpful (3)</td>\n    </tr>\n    <tr>\n      <th>26</th>\n      <td>This course is great to introduce you to regul...</td>\n      <td>This is helpful (3)</td>\n    </tr>\n    <tr>\n      <th>27</th>\n      <td>Took the first two courses which were fine but...</td>\n      <td>This is helpful (3)</td>\n    </tr>\n    <tr>\n      <th>28</th>\n      <td>Horrible TAs. They should all be changed. Th...</td>\n      <td>This is helpful (3)</td>\n    </tr>\n    <tr>\n      <th>29</th>\n      <td>teaching staff.......no good, helpless</td>\n      <td>This is helpful (3)</td>\n    </tr>\n    <tr>\n      <th>30</th>\n      <td>explanation was not up to the mark.</td>\n      <td>This is helpful (3)</td>\n    </tr>\n    <tr>\n      <th>31</th>\n      <td>really hard assignments</td>\n      <td>This is helpful (3)</td>\n    </tr>\n    <tr>\n      <th>32</th>\n      <td>Time wasting &amp; rubish</td>\n      <td>This is helpful (3)</td>\n    </tr>\n    <tr>\n      <th>33</th>\n      <td>Yet another excellent course... My prior revie...</td>\n      <td>This is helpful (2)</td>\n    </tr>\n    <tr>\n      <th>34</th>\n      <td>Disclaimer: If you're taking the Python for Ev...</td>\n      <td>This is helpful (2)</td>\n    </tr>\n    <tr>\n      <th>35</th>\n      <td>I had low expectations for this course as the ...</td>\n      <td>This is helpful (2)</td>\n    </tr>\n    <tr>\n      <th>36</th>\n      <td>The course teaches the basics of how to intera...</td>\n      <td>This is helpful (2)</td>\n    </tr>\n    <tr>\n      <th>37</th>\n      <td>Great course for introduction to parse Web Dat...</td>\n      <td>This is helpful (2)</td>\n    </tr>\n    <tr>\n      <th>38</th>\n      <td>I think that the average user will be overexer...</td>\n      <td>This is helpful (2)</td>\n    </tr>\n    <tr>\n      <th>39</th>\n      <td>I would give 0 stars if I could</td>\n      <td>This is helpful (2)</td>\n    </tr>\n    <tr>\n      <th>40</th>\n      <td>Overall  I really enjoyed the course and I hop...</td>\n      <td>This is helpful (1)</td>\n    </tr>\n    <tr>\n      <th>41</th>\n      <td>Professor Severance is awesome. I really like ...</td>\n      <td>This is helpful (1)</td>\n    </tr>\n    <tr>\n      <th>42</th>\n      <td>This is the third course of Python for Everybo...</td>\n      <td>This is helpful (1)</td>\n    </tr>\n    <tr>\n      <th>43</th>\n      <td>Thank You Lord for the strength!!!</td>\n      <td>This is helpful (1)</td>\n    </tr>\n    <tr>\n      <th>44</th>\n      <td>Veyr interessing course. I am not an expert in...</td>\n      <td>This is helpful (1)</td>\n    </tr>\n    <tr>\n      <th>45</th>\n      <td>Very versatilte and touched a wide range of re...</td>\n      <td>This is helpful (1)</td>\n    </tr>\n    <tr>\n      <th>46</th>\n      <td>It's not that easy like previous two courses. ...</td>\n      <td>This is helpful (1)</td>\n    </tr>\n    <tr>\n      <th>47</th>\n      <td>The course gives good start to python programm...</td>\n      <td>This is helpful (1)</td>\n    </tr>\n    <tr>\n      <th>48</th>\n      <td>I​ have learnt many new things. Assignments ar...</td>\n      <td>This is helpful (1)</td>\n    </tr>\n    <tr>\n      <th>49</th>\n      <td>This is one of the most useful courses I passe...</td>\n      <td>This is helpful (1)</td>\n    </tr>\n  </tbody>\n</table>\n</div>"
     },
     "execution_count": 74,
     "metadata": {},
     "output_type": "execute_result"
    }
   ],
   "source": [
    "pd.DataFrame(review_items)"
   ],
   "metadata": {
    "collapsed": false,
    "pycharm": {
     "name": "#%%\n"
    }
   }
  },
  {
   "cell_type": "code",
   "execution_count": null,
   "outputs": [],
   "source": [
    "pd.DataFrame(review_items).to_csv(f'{course_name}_reviews.csv')"
   ],
   "metadata": {
    "collapsed": false,
    "pycharm": {
     "name": "#%%\n"
    }
   }
  },
  {
   "cell_type": "code",
   "execution_count": 41,
   "outputs": [],
   "source": [
    "# driver.close()"
   ],
   "metadata": {
    "collapsed": false,
    "pycharm": {
     "name": "#%%\n"
    }
   }
  },
  {
   "cell_type": "markdown",
   "source": [
    "# Step Through FN"
   ],
   "metadata": {
    "collapsed": false,
    "pycharm": {
     "name": "#%% md\n"
    }
   }
  },
  {
   "cell_type": "code",
   "execution_count": 7,
   "outputs": [],
   "source": [
    "html = driver.page_source\n",
    "soup = BeautifulSoup(html, 'html.parser')\n",
    "\n",
    "# dynamic page checker, returns number of pages for course\n",
    "len_pages = len(soup.find_all('li', style='display:inline-block')) - 2 # last link is next page, plus 0 initial counting\n",
    "total_pages = soup.find_all('li', style='display:inline-block')[len_pages]\n",
    "total_pages = int(total_pages.text)"
   ],
   "metadata": {
    "collapsed": false,
    "pycharm": {
     "name": "#%%\n"
    }
   }
  },
  {
   "cell_type": "code",
   "execution_count": 8,
   "outputs": [],
   "source": [
    "review_container_class = 'cds-63 review review-text review-page-review m-b-2 css-0 cds-64'\n",
    "reviews_containers = soup.find_all('div', class_=review_container_class)"
   ],
   "metadata": {
    "collapsed": false,
    "pycharm": {
     "name": "#%%\n"
    }
   }
  },
  {
   "cell_type": "code",
   "execution_count": 10,
   "outputs": [],
   "source": [
    "review_items = []\n",
    "for review_set in reviews_containers:\n",
    "    text = review_set.select_one('.reviewText').p.text\n",
    "\n",
    "    wanted_span = len(review_set.select('span')) - 1\n",
    "    helpful_count = review_set.select('span')[wanted_span].text\n",
    "\n",
    "    review_items.append({'text':text,\n",
    "                         'helpful_count':helpful_count})\n",
    "\n",
    "# click next page\n",
    "next_button_num = len(driver.find_elements(By.CLASS_NAME, \"_1lutnh9y\")) - 1\n",
    "driver.find_elements(By.CLASS_NAME, \"_1lutnh9y\")[next_button_num].click()"
   ],
   "metadata": {
    "collapsed": false,
    "pycharm": {
     "name": "#%%\n"
    }
   }
  }
 ],
 "metadata": {
  "kernelspec": {
   "display_name": "Python 3",
   "language": "python",
   "name": "python3"
  },
  "language_info": {
   "codemirror_mode": {
    "name": "ipython",
    "version": 2
   },
   "file_extension": ".py",
   "mimetype": "text/x-python",
   "name": "python",
   "nbconvert_exporter": "python",
   "pygments_lexer": "ipython2",
   "version": "2.7.6"
  }
 },
 "nbformat": 4,
 "nbformat_minor": 0
}
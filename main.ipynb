{
 "cells": [
  {
   "cell_type": "markdown",
   "metadata": {},
   "source": [
    "### Loading Required Libraries"
   ]
  },
  {
   "cell_type": "code",
   "execution_count": 1,
   "metadata": {},
   "outputs": [],
   "source": [
    "from modules import PreProcessing, functions\n",
    "from sqlite3 import connect \n",
    "import pandas as pd\n",
    "\n",
    "# to ensure all changes are reflected \n",
    "# in-case jupyter notebook was already oppened\n",
    "\n",
    "from importlib import reload\n",
    "reload(PreProcessing)\n",
    "reload(functions)\n",
    "\n",
    "project_dir = '/Users/nima/repository/509_project'"
   ]
  },
  {
   "cell_type": "markdown",
   "metadata": {},
   "source": [
    "### Section 1 - Data Collection"
   ]
  },
  {
   "cell_type": "code",
   "execution_count": 2,
   "metadata": {},
   "outputs": [],
   "source": [
    "driver = PreProcessing.ChromeDriver(driver_path=project_dir+'/chromedriver')\n",
    "scrapper = PreProcessing.WebScraper(driver)\n",
    "\n",
    "# wait randomly between 3 to 6 seconds between each retrieval\n",
    "retrieval_control = functions.RetrievalControl(min_value=3,max_value=6)"
   ]
  },
  {
   "cell_type": "code",
   "execution_count": 3,
   "metadata": {},
   "outputs": [],
   "source": [
    "# define the courses which reviews needs to be collected for!\n",
    "\n",
    "course_names = ['excel-essentials', \n",
    "                'introduction-cybersecurity-cyber-attacks', \n",
    "                'learning-how-to-learn', \n",
    "                'ai-for-everyone']"
   ]
  },
  {
   "cell_type": "code",
   "execution_count": null,
   "metadata": {},
   "outputs": [],
   "source": [
    "for course_name in course_names:\n",
    "    course = PreProcessing.Course(course_name)\n",
    "    \n",
    "    driver.url = course.main_page_link\n",
    "    \n",
    "    course.title = scrapper.extract_course_info('title')\n",
    "    \n",
    "    # Click on view all to expand the info section and get the full about text\n",
    "    driver.click_element(by_class_name='_1wziqqgx')\n",
    "    course.about_text = scrapper.extract_course_info('about_text')\n",
    "        \n",
    "    course.available_review_pages = scrapper.extract_course_info('available_review_pages')\n",
    "    \n",
    "    # if smaller portions of the reviews needs to be retrieved,\n",
    "    # set what pages to tetrieve for example only get reviews from\n",
    "    # page 1, 5 and 10 instead of all pages\n",
    "    # course.available_review_pages = [1, 5, 10]\n",
    "    \n",
    "    course.save_course_info_to_file(file_location=project_dir)\n",
    "\n",
    "    retrieval_control.wait\n",
    "    \n",
    "    for page_num in course.available_review_pages:\n",
    "\n",
    "        driver.url = course.page_link(page_num)\n",
    "        reviews_in_page = scrapper.extract_reviews_from_current_page()\n",
    "    \n",
    "        course.save_reviews_to_file(\n",
    "                this_page_reviews=reviews_in_page, \n",
    "                directory=project_dir + '/reviews/')\n",
    "        \n",
    "        retrieval_control.wait"
   ]
  },
  {
   "cell_type": "markdown",
   "metadata": {},
   "source": [
    "### Section 2 - Gather all data into a database\n",
    "This will help with performing queries using sql statements <br>\n",
    "as well as sharing the data with others in a single file"
   ]
  },
  {
   "cell_type": "code",
   "execution_count": 8,
   "metadata": {},
   "outputs": [
    {
     "name": "stdout",
     "output_type": "stream",
     "text": [
      "Database already exists!\n",
      " change database.db to something else.\n",
      " This is to avoid loosing data from before!\n"
     ]
    }
   ],
   "source": [
    "databse_file = 'database.db'\n",
    "\n",
    "course_info = pd.read_csv(project_dir + '/course_info.csv')\n",
    "review_files = os.listdir(project_dir + '/reviews/')\n",
    "\n",
    "all_reviews = pd.DataFrame()\n",
    "\n",
    "for file_path in review_files:\n",
    "    course_review = pd.read_csv(project_dir + '/reviews/' + file_path)\n",
    "    course_name = file_path.replace('.csv','')\n",
    "    course_review['course_name'] = course_name\n",
    "    all_reviews = pd.concat([all_reviews, course_review], ignore_index=True)\n",
    "  \n",
    "conn = connect(':memory:')\n",
    "all_reviews.to_sql('reviews', conn)\n",
    "course_info.to_sql('course', conn)\n",
    "\n",
    "\n",
    "if os.path.exists(databse_file):\n",
    "    print('Database already exists!\\n',\n",
    "          'change %s to something else.\\n' % databse_file,\n",
    "          'This is to avoid loosing data from before!')\n",
    "else:\n",
    "    main = connect(databse_file)\n",
    "    conn.backup(main)\n",
    "    main.commit()\n",
    "    main.close()"
   ]
  },
  {
   "cell_type": "markdown",
   "metadata": {},
   "source": [
    "In case if the data has already been converted to a database, <br>\n",
    "the block above can be skippled and only load the database"
   ]
  },
  {
   "cell_type": "code",
   "execution_count": 10,
   "metadata": {},
   "outputs": [
    {
     "data": {
      "text/html": [
       "<div>\n",
       "<style scoped>\n",
       "    .dataframe tbody tr th:only-of-type {\n",
       "        vertical-align: middle;\n",
       "    }\n",
       "\n",
       "    .dataframe tbody tr th {\n",
       "        vertical-align: top;\n",
       "    }\n",
       "\n",
       "    .dataframe thead th {\n",
       "        text-align: right;\n",
       "    }\n",
       "</style>\n",
       "<table border=\"1\" class=\"dataframe\">\n",
       "  <thead>\n",
       "    <tr style=\"text-align: right;\">\n",
       "      <th></th>\n",
       "      <th>course_name</th>\n",
       "      <th>text</th>\n",
       "    </tr>\n",
       "  </thead>\n",
       "  <tbody>\n",
       "    <tr>\n",
       "      <th>0</th>\n",
       "      <td>excel-essentials</td>\n",
       "      <td>This course is simply awesome. If you really w...</td>\n",
       "    </tr>\n",
       "    <tr>\n",
       "      <th>1</th>\n",
       "      <td>excel-essentials</td>\n",
       "      <td>I have working experience with Excel for many ...</td>\n",
       "    </tr>\n",
       "    <tr>\n",
       "      <th>2</th>\n",
       "      <td>excel-essentials</td>\n",
       "      <td>Practice make permanent is the true line .this...</td>\n",
       "    </tr>\n",
       "    <tr>\n",
       "      <th>3</th>\n",
       "      <td>excel-essentials</td>\n",
       "      <td>A great course for beginners in MS Excel. Intr...</td>\n",
       "    </tr>\n",
       "    <tr>\n",
       "      <th>4</th>\n",
       "      <td>excel-essentials</td>\n",
       "      <td>This is an amazing course for learners. I am h...</td>\n",
       "    </tr>\n",
       "  </tbody>\n",
       "</table>\n",
       "</div>"
      ],
      "text/plain": [
       "        course_name                                               text\n",
       "0  excel-essentials  This course is simply awesome. If you really w...\n",
       "1  excel-essentials  I have working experience with Excel for many ...\n",
       "2  excel-essentials  Practice make permanent is the true line .this...\n",
       "3  excel-essentials  A great course for beginners in MS Excel. Intr...\n",
       "4  excel-essentials  This is an amazing course for learners. I am h..."
      ]
     },
     "execution_count": 10,
     "metadata": {},
     "output_type": "execute_result"
    }
   ],
   "source": [
    "# test if all data can be accessed.\n",
    "main = connect(databse_file)\n",
    "\n",
    "query = \\\n",
    "\"\"\"\n",
    "SELECT course_name, text \n",
    "FROM reviews \n",
    "WHERE helpful > 20 \n",
    "LIMIT 5\n",
    "\"\"\"\n",
    "\n",
    "pd.read_sql_query(query, main)"
   ]
  }
 ],
 "metadata": {
  "kernelspec": {
   "display_name": "Python 3.10.6 64-bit",
   "language": "python",
   "name": "python3"
  },
  "language_info": {
   "codemirror_mode": {
    "name": "ipython",
    "version": 3
   },
   "file_extension": ".py",
   "mimetype": "text/x-python",
   "name": "python",
   "nbconvert_exporter": "python",
   "pygments_lexer": "ipython3",
   "version": "3.10.6"
  },
  "orig_nbformat": 4,
  "vscode": {
   "interpreter": {
    "hash": "aee8b7b246df8f9039afb4144a1f6fd8d2ca17a180786b69acc140d282b71a49"
   }
  }
 },
 "nbformat": 4,
 "nbformat_minor": 2
}
